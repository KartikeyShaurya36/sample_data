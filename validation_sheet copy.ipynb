{
 "cells": [
  {
   "cell_type": "code",
   "execution_count": 104,
   "metadata": {},
   "outputs": [],
   "source": [
    "import pandas as pd\n",
    "import json "
   ]
  },
  {
   "cell_type": "markdown",
   "metadata": {},
   "source": [
    "## 1.0 Database RAW - Cleaning Step"
   ]
  },
  {
   "cell_type": "code",
   "execution_count": null,
   "metadata": {},
   "outputs": [],
   "source": [
    "a = json.loads(\"ai_conversation_deep_full_export.json\")"
   ]
  },
  {
   "cell_type": "code",
   "execution_count": null,
   "metadata": {},
   "outputs": [],
   "source": [
    "a= pd.read_json(\"ai_conversation_deep_full_export.json\")"
   ]
  },
  {
   "cell_type": "code",
   "execution_count": null,
   "metadata": {},
   "outputs": [],
   "source": [
    "a[\"conversations\"]"
   ]
  },
  {
   "cell_type": "code",
   "execution_count": null,
   "metadata": {},
   "outputs": [],
   "source": [
    "def personal(row):\n",
    "    try:\n",
    "        x =row[0][\"Personal\"][0][\"conversation-data\"][0][\"messages\"][\"values\"]\n",
    "    except:\n",
    "        x = \" \"\n",
    "\n",
    "    return x     "
   ]
  },
  {
   "cell_type": "code",
   "execution_count": null,
   "metadata": {},
   "outputs": [],
   "source": [
    "a[\"personal_data\"] = a[\"conversations\"].apply(personal)"
   ]
  },
  {
   "cell_type": "code",
   "execution_count": null,
   "metadata": {},
   "outputs": [],
   "source": [
    "a[\"real_state_data\"] = a[\"conversations\"].apply(personal)"
   ]
  },
  {
   "cell_type": "code",
   "execution_count": null,
   "metadata": {},
   "outputs": [],
   "source": [
    "a[\"personal_data\"] = a[\"conversations\"].apply(personal)"
   ]
  },
  {
   "cell_type": "code",
   "execution_count": null,
   "metadata": {},
   "outputs": [],
   "source": [
    "a[\"personal_data\"] = a[\"conversations\"].apply(personal)"
   ]
  },
  {
   "cell_type": "code",
   "execution_count": null,
   "metadata": {},
   "outputs": [],
   "source": [
    "a.iloc[31][\"personal_data\"]"
   ]
  },
  {
   "cell_type": "code",
   "execution_count": null,
   "metadata": {},
   "outputs": [],
   "source": [
    "import json\n",
    "\n",
    "def extract_messages(data):\n",
    "    cleaned_data = []\n",
    "    try:\n",
    "        for item in data:\n",
    "            fields = item.get(\"mapValue\", {}).get(\"fields\", {})\n",
    "            sender = fields.get(\"sender\", {}).get(\"stringValue\", \"\")\n",
    "            message = fields.get(\"message\", {}).get(\"stringValue\", \"\")\n",
    "            \n",
    "            if sender and message:\n",
    "                cleaned_data.append({sender: message})\n",
    "    except:\n",
    "        pass\n",
    "    return cleaned_data"
   ]
  },
  {
   "cell_type": "code",
   "execution_count": null,
   "metadata": {},
   "outputs": [],
   "source": [
    "a[\"personal_cleaned\"] = a[\"personal_data\"].apply(extract_messages)"
   ]
  },
  {
   "cell_type": "code",
   "execution_count": null,
   "metadata": {},
   "outputs": [],
   "source": [
    "conversation = a[\"personal_cleaned\"].iloc[1]"
   ]
  },
  {
   "cell_type": "code",
   "execution_count": null,
   "metadata": {},
   "outputs": [],
   "source": [
    "a.to_csv(\"sample_data.csv\")"
   ]
  },
  {
   "cell_type": "markdown",
   "metadata": {},
   "source": [
    "## 2.0 Processing the cleaned Sheet"
   ]
  },
  {
   "cell_type": "code",
   "execution_count": null,
   "metadata": {},
   "outputs": [],
   "source": [
    "\n",
    "# Separate AI and Human messages into lists\n",
    "ai_messages = []\n",
    "human_messages = []\n",
    "\n",
    "# Iterate through the conversation and separate messages\n",
    "for msg in conversation:\n",
    "    if 'AI' in msg:\n",
    "        ai_messages.append(msg['AI'])\n",
    "        human_messages.append(\"\")  # Placeholder for missing human responses\n",
    "    elif 'human' in msg:\n",
    "        human_messages[-1] = msg['human']  # Assign human response to last AI question\n",
    "\n",
    "# Create DataFrame\n",
    "dx = pd.DataFrame({'AI': ai_messages, 'Human': human_messages})\n"
   ]
  },
  {
   "cell_type": "code",
   "execution_count": 77,
   "metadata": {},
   "outputs": [],
   "source": [
    "x = a[\"personal_cleaned\"].drop_duplicates()"
   ]
  },
  {
   "cell_type": "code",
   "execution_count": 84,
   "metadata": {},
   "outputs": [],
   "source": [
    "ai_messages = []\n",
    "human_messages = []"
   ]
  },
  {
   "cell_type": "code",
   "execution_count": null,
   "metadata": {},
   "outputs": [
    {
     "name": "stdout",
     "output_type": "stream",
     "text": [
      "[{'AI': 'Hi! Would you like to fill your Personal data?'}, {'human': 'Yes'}, {'AI': 'Can you provide details about your prior marital status, as this may impact your current legal or financial obligations?'}, {'human': 'Married'}, {'AI': 'Have you ever been divorced, as this information may impact your legal or financial obligations?'}, {'human': 'Never'}, {'AI': 'Which branch of military service did you serve in, as this information is crucial for accessing veteran benefits and medical care?'}, {'human': 'Never Served'}, {'AI': 'What specific wishes do you have regarding your asset distribution in your estate planning?'}, {'human': 'Can you please provide more information?'}, {'AI': \"For effective estate planning, it's essential to ensure that your assets are distributed according to your wishes. This involves creating a will or trust that clearly outlines how you would like your assets to be divided among your loved ones. \\n\\nCould you share more about your current estate planning arrangements, or any specific concerns you have about distributing your assets? This will help us align the available guides with your individual needs.How would you like your assets to be distributed to align with your wishes during your estate planning?\"}, {'human': 'All these details are in my will'}, {'AI': 'How do you currently keep your financial data organized for easy access and management?'}, {'human': 'In google drive'}, {'AI': 'What additional personal records do you have that are relevant to your specific needs?'}, {'human': 'can you give sme examples?'}, {'AI': 'To clarify what I mean by \"Other Important Documents,\" here are some examples:\\n\\n1. **Medical Records** - Important for your healthcare provider and in case of emergencies.\\n2. **Tax Returns** - Needed for financial purposes, loan applications, or audits.\\n3. **Legal Documents** - Such as wills, marriage certificates, or property deeds, which are crucial for legal matters.\\n4. **Insurance Policies** - Important to have on file to manage claims and policies effectively.\\n5. **Educational Records** - Such as diplomas and transcripts, which can be required for job applications or further education.\\n\\nWould any of these categories be relevant for you, or do you have specific documents in mind that you are considering?What additional personal records do you have that may be relevant for your specific needs?'}, {'human': 'I have my education certificates'}, {'AI': 'Can you provide the specific locations where physical assets and important documents are stored for easy access?'}, {'human': 'In a file in my office draw'}, {'AI': 'Who do you trust to make financial decisions on your behalf, should you assign them a Financial Power of Attorney?'}, {'human': 'My wife Pr'}, {'AI': 'Where is the location where the Financial Power of Attorney document is executed?'}, {'human': 'Do not have one yet'}, {'AI': 'Where is the Financial Power of Attorney document located?'}, {'human': 'DO not have one'}, {'AI': 'What is the location where the Financial Power of Attorney document needs to be executed?'}, {'human': 'I dont have one'}, {'AI': 'Where does the Financial Power of Attorney need to be executed?'}, {'human': 'DO not have one'}, {'AI': 'Where is the location where the Financial Power of Attorney will be executed?'}, {'human': 'No '}, {'AI': 'Where is the Financial Power of Attorney document executed?'}, {'human': 'no'}, {'AI': 'Where is the location where the Financial Power of Attorney will be executed?'}, {'human': 'no'}, {'AI': 'Where will the Financial Power of Attorney be executed?'}, {'human': 'no'}, {'AI': 'Where is the location where the Financial Power of Attorney will be executed?'}, {'human': 'skip'}, {'AI': 'Where will the Financial Power of Attorney be executed?'}, {'human': 'skip'}, {'AI': 'Where is the financial power of attorney document executed?'}, {'human': 'skip'}, {'AI': 'Where is the location where you plan to execute the Financial Power of Attorney?'}, {'human': 'in google doc'}, {'AI': 'Where is the location where the Financial Power of Attorney will be executed?'}, {'human': 'in desk draw'}, {'AI': 'What health-related financial arrangements do you currently have in place for managing your healthcare expenses?'}, {'human': 'skip'}, {'AI': \"Can you provide your full name as it appears on your birth certificate, since it's a vital identification document for legal matters?\"}, {'human': 'Ka Balasubramanian'}, {'AI': 'What is the location where you can obtain a copy of your birth certificate?'}, {'human': 'desk draw'}, {'AI': 'Have you recently checked your credit report to monitor your credit health for better financial planning?'}, {'human': 'yes'}, {'AI': 'What is your current credit score according to your latest credit report? This information is useful for understanding your credit health, it could look like 720.'}, {'human': '800'}, {'AI': '\"What is the location from which you obtained your recent credit report?\"'}, {'human': 'Online'}, {'AI': 'Can you please provide your prior year tax returns, as they are important for income verification and maintaining accurate tax records?'}, {'human': 'It is in a file online which is password protected'}, {'AI': 'Where can I obtain copies of my prior year tax returns?'}, {'human': 'Online'}, {'AI': 'What is your Social Security number, as it is essential for identity verification and accessing government services?'}, {'human': '04853098'}, {'AI': 'What is your Social Security number, as it is essential for identity verification and accessing government services? For example, it could be something like 123-45-6789?'}, {'human': '628628629'}, {'AI': '\"Where can I find the nearest location to obtain a Social Security card?\"'}, {'human': 'in my office draw'}, {'AI': 'What type of stock or bond certificates do you currently hold, as this information is essential for documenting your investment ownership?'}, {'human': 'Lots. It is in my Bank online'}, {'AI': 'What types of stock or bond certificates do you currently hold for your investments? This information helps clarify your ownership documentation, for example, \"I hold 100 shares of Company X and 50 bonds from Company Y.\"'}, {'human': 'Too many to list'}, {'AI': 'What specific stock or bond certificates do you currently own, as this is important documentation of your investment ownership? For example, it could be something like \"I own 100 shares of Company XYZ stock.\"'}, {'human': 'skip'}]\n",
      "[{'AI': 'Hi! Would you like to fill your Personal details?'}, {'human': 'hi'}]\n",
      "[{'AI': 'Hi! Would you like to fill your Personal details?'}, {'human': 'yes'}, {'AI': 'What is the full name as it appears on your birth certificate, which is essential for legal identification purposes?'}, {'human': 'Bala'}, {'AI': 'The suggested answer Bala does not show the complete name as listed on the birth certificate. What is the full name on your birth certificate, which is necessary for legal identification?'}, {'human': 'Ka Bala'}, {'AI': 'Where is your Birth Certificate stored? Can you provide me with that location?'}, {'human': 'Desk Draw '}, {'AI': 'How often do you check your credit report to ensure you are monitoring your credit health for better financial planning?'}, {'human': 'Once a year'}, {'AI': 'Could you please specify where the recent credit report is stored?'}, {'human': 'Online in Bank Account'}]\n",
      "[{'AI': 'Hi! Would you like to fill your Personal details?'}, {'human': 'yes'}, {'AI': 'What is your prior marital status, as it may impact your legal or financial obligations?'}, {'human': 'i am married.'}, {'AI': 'Have you ever been divorced, as this information may impact your legal and financial responsibilities?'}, {'human': 'no'}]\n",
      "[{'AI': 'Hi! Would you like to fill your Personal details?'}, {'human': 'Yes '}, {'AI': 'What is your prior marital status, as it may impact your legal or financial obligations?'}, {'human': 'marrid'}, {'AI': 'Have you ever been divorced, as this information may impact your legal and financial responsibilities?'}, {'human': 'no'}, {'AI': 'Moving to the next question. What branch of military service did you serve in, as this information is important for determining your veteran benefits and medical care?'}, {'human': 'skip'}, {'AI': 'Moving to the next question. Have you thought about how you want your assets to be distributed to align with your individual wishes?'}, {'human': 'no'}, {'AI': 'Moving to the next question. How do you currently keep your financial data organized for easy access and management?'}, {'human': 'skip'}, {'AI': 'Moving to the next question. What other important documents do you have that might be relevant to your specific needs?'}, {'human': 'skip'}, {'AI': 'Moving to the next question. What specific storage locations do you currently use for your physical assets and important documents?'}, {'human': 'skip'}]\n",
      "[{'AI': 'Hi! Would you like to fill your Personal details?'}, {'human': 'hi'}, {'AI': 'What is your prior marital status, as it may impact your legal or financial obligations?'}, {'human': 'skip'}, {'AI': 'Have you ever been divorced, as this information may impact your legal and financial responsibilities?'}, {'human': 'skip'}, {'AI': 'Have you ever been divorced, as this information may impact your legal and financial responsibilities?'}, {'human': 'skip'}, {'AI': 'Have you ever been divorced, as this information may impact your legal and financial responsibilities?'}, {'human': 'no '}, {'AI': 'Have you ever been divorced, as this information may impact your legal and financial responsibilities?'}, {'human': 'no i am not divorces'}, {'AI': 'Have you ever been divorced, as this information may impact your legal and financial responsibilities?'}, {'human': 'No i am not'}, {'AI': 'Have you ever been divorced, as this information may impact your legal and financial responsibilities?'}, {'human': 'Hi'}, {'AI': 'The reply Hi lacks details about your military service branch. Which branch did you serve in? This information is crucial for assessing your veteran benefits and medical care.'}, {'human': 'No'}, {'AI': 'What branch of military service did you serve in, as this information is important for determining your veteran benefits and medical care?'}, {'human': 'i didnot serve'}, {'AI': 'What branch of military service did you serve in, as this information is important for determining your veteran benefits and medical care?'}, {'human': 'hi'}, {'AI': 'The suggested response of hi fails to address the asset distribution question. Have you considered how you would like your assets to be allocated according to your personal preferences?'}, {'human': 'it should go to my son '}, {'AI': 'Have you thought about how you want your assets to be distributed to align with your individual wishes?'}, {'human': 'No i have not thought it '}]\n",
      "[{'AI': 'Hi! Would you like to fill your Personal details?'}, {'human': 'yes'}, {'AI': 'How do you currently keep your financial data organized for easy access and management?'}, {'human': 'all the data present in my draw file'}, {'AI': 'How do you currently keep your financial data organized for easy access and management?'}, {'human': 'All my financial data are present in a locker name as Code-x'}, {'AI': 'Do you have a Financial Power of Attorney'}, {'human': 'no, i do not have'}, {'AI': 'Where is the Financial Power of Attorney document stored? Could you please provide me with this information?'}, {'human': 'i have no doc related to this '}, {'AI': 'The response lacks details regarding the location of the Financial Power of Attorney document. Can you tell me where the Financial Power of Attorney document is stored?'}, {'human': 'all the doc related to this are stored in a place name shut down'}, {'AI': 'The response lacks clarity and specific details regarding the storage location of the Financial Power of Attorney document. Could you please tell me where the document is stored?'}, {'human': 'storage location of the Financial Power of Attorney document is locker number 1235'}, {'AI': 'Do you have healthcare accounts'}, {'human': 'yes '}, {'AI': 'Where are your healthcare account documents stored? Could you please provide me with that information?'}, {'human': 'those are store in locker number 001'}]\n",
      "[{'AI': 'Hi! Would you like to fill your Personal details?'}, {'human': 'hi'}, {'AI': 'What is your prior marital status, as it may impact your legal or financial obligations?'}, {'human': 'Married.'}, {'AI': 'Have you ever been divorced, as this information may impact your legal and financial responsibilities?'}, {'human': 'No'}, {'AI': 'What branch of military service did you serve in, as this information is important for determining your veteran benefits and medical care?'}, {'human': 'BSF'}, {'AI': 'Have you thought about how you want your assets to be distributed to align with your individual wishes?'}, {'human': 'yes I will distribute according to the as per the 50 - 50 share.'}]\n",
      "[{'AI': 'Hi! Would you like to fill your Personal details?'}, {'human': 'yes'}, {'AI': 'What is your prior marital status, as it may impact your legal or financial obligations?'}, {'human': 'married'}, {'AI': 'Have you ever been divorced, as this information may impact your legal and financial responsibilities?'}, {'human': 'no'}, {'AI': 'What branch of military service did you serve in, as this information is important for determining your veteran benefits and medical care?'}, {'human': 'never served'}, {'AI': 'Have you thought about how you want your assets to be distributed to align with your individual wishes?'}, {'human': 'yes, it is in my will'}, {'AI': 'How do you currently keep your financial data organized for easy access and management?'}, {'human': 'Keep it online in a document'}, {'AI': 'What other important documents do you have that might be relevant to your specific needs?'}, {'human': 'what do you mean?'}, {'AI': 'The suggested response is unclear and lacks details about pertinent documents. What other significant documents do I have that could be relevant to my specific needs?'}, {'human': 'Can you clarify?'}, {'AI': 'I need to gather any other critical personal documents, such as my Social Security card, tax documents, or proof of residency, so my specific needs can be fully addressed. This information is essential for purposes like identity verification and compliance with regulations. Can you tell me which documents I already have on hand? What other important documents do I have that might be relevant to my specific needs?'}, {'human': 'none'}, {'AI': 'What specific storage locations do you currently use for your physical assets and important documents?'}, {'human': 'I do not have any'}, {'AI': 'Do you have a Financial Power of Attorney'}, {'human': 'Yes'}, {'AI': 'Thanks for answering, Where is the Financial Power of Attorney document stored? Could you provide me with this information?'}, {'human': 'In my desk draw'}, {'AI': 'Do you have healthcare accounts'}, {'human': 'Yes'}, {'AI': 'Thanks for answering, Where are the Healthcare Accounts documents stored? Can you provide that information?'}, {'human': 'In my desk draw'}, {'AI': 'Do you have my birth certificate'}, {'human': 'yes'}, {'AI': 'Thanks for answering, Where is your birth certificate stored? Could you provide me with this information?'}, {'human': 'It is in a red file on my office table'}, {'AI': 'Where is your birth certificate stored? Could you provide me with this information?'}, {'human': 'In my desk draw'}, {'AI': 'Thanks for answering, Where is your recent credit report stored? Could you provide me with this information?'}, {'human': 'online in with my bank account'}, {'AI': 'Do you have prior year tax returns'}, {'human': 'yes'}, {'AI': 'Thanks for answering, Where are your prior year tax returns stored? Could you provide me with this location?'}, {'human': 'online '}, {'AI': 'Do You have their social security card'}, {'human': 'yes'}, {'AI': 'Thanks for answering, Where is your Social Security Card stored? Could you provide me with this information?'}, {'human': 'top desk draw'}, {'AI': 'Do you have stock/bond certificates'}, {'human': 'yes, online accounts have it'}]\n",
      "[{'AI': 'Hi! Would you like to fill your Personal details?'}, {'human': 'yes'}, {'AI': 'What is your prior marital status, as it may impact your legal or financial obligations?'}, {'human': 'married'}, {'AI': 'Have you ever been divorced, as this information may impact your legal and financial responsibilities?'}, {'human': 'never'}, {'AI': 'What branch of military service did you serve in, as this information is important for determining your veteran benefits and medical care?'}, {'human': 'never served'}, {'AI': 'Have you thought about how you want your assets to be distributed to align with your individual wishes?'}, {'human': 'Yes, it is in my will'}, {'AI': 'How do you currently keep your financial data organized for easy access and management?'}, {'human': 'online in a google doc'}, {'AI': 'What other important documents do you have that might be relevant to your specific needs?'}, {'human': 'what do you mean?'}, {'AI': 'The response is unclear and doesn’t specify which important documents relate to my specific needs. What other important documents do I have that could be relevant to my needs?'}, {'human': 'can you clarify?'}, {'AI': 'In order to meet various legal requirements, I need to gather important personal documents, which include my identification, proof of address, and any relevant financial records. This will help keep my records accurate and make any future processes easier. What other important documents do I have that might be relevant to my specific needs?'}, {'human': 'I have stock options online in eve'}, {'AI': 'The answer doesnt clearly outline what other significant documents are pertinent to my specific needs. What other important documents do I have that could be relevant to my situation?'}, {'human': 'stock options'}, {'AI': 'What specific storage locations do you currently use for your physical assets and important documents?'}, {'human': 'desk draw'}, {'AI': 'Do you have a Financial Power of Attorney'}, {'human': 'Yes'}, {'AI': 'Thanks for answering, Where is the Financial Power of Attorney document stored? Could you provide me with this information?'}, {'human': 'Desk draw'}, {'AI': 'Do you have healthcare accounts'}, {'human': 'can you clarify?'}, {'AI': 'Health-related financial arrangements often consist of accounts such as Health Savings Accounts (HSAs), Flexible Spending Accounts (FSAs), and Health Reimbursement Arrangements (HRAs), which can assist me in managing healthcare expenses by allowing me to save pre-tax funds for eligible medical costs. Is there a specific account or arrangement I want to learn more about? Do I have healthcare accounts?'}, {'human': 'I have HSA '}, {'AI': 'Thanks for answering, What is the storage location for the healthcare accounts documentation?'}, {'human': 'mailfile'}, {'AI': 'Do you have my birth certificate'}, {'human': 'yes'}, {'AI': 'Thanks for answering, Where is the Birth Certificate stored? Could you provide me with this information?'}, {'human': 'in my desk draw'}]\n",
      "[{'AI': 'Hi! Would you like to fill your Personal details?'}, {'human': 'yes'}, {'AI': 'Do you have checking/savings accounts'}, {'human': 'yes i have '}, {'AI': 'Thanks for answering, Where is the documentation for your Checking/Savings accounts stored?'}, {'human': 'it is stored in my drawer'}, {'AI': 'Do you have active credit cards'}, {'human': 'yes i do '}, {'AI': 'Thanks for answering, Where are your credit card documents stored? Could you provide that information?'}, {'human': 'its in my google drive '}, {'AI': 'Do you have accidental death & dismemberment insurance'}, {'human': 'yes '}, {'AI': 'Thanks for answering, Where is the AD&D Insurance document stored? Could you provide me this information?'}, {'human': 'skip'}, {'AI': 'Do you have life insurance'}, {'human': 'asdfasdfasdf'}, {'AI': 'The suggested response asdfasdfasdf is vague and doesnt answer my question about life insurance. Can you tell me if you have life insurance?'}, {'human': 'yes i do '}, {'AI': 'Thanks for answering, Where is your life insurance document stored? Could you provide me with this information?'}, {'human': 'its in my drawer'}, {'AI': 'Do you have a personal umbrella liability insurance'}, {'human': 'No'}, {'AI': 'Do you have non-retirement brokerage or investment accounts'}, {'human': 'nkjnkljn;'}]\n",
      "[{'AI': 'Hi! Would you like to fill your Personal details?'}, {'human': 'yes'}, {'AI': 'What is your prior marital status, as it may impact your legal or financial obligations?'}, {'human': 'i am married'}, {'AI': 'Have you ever been divorced, as this information may impact your legal and financial responsibilities?'}, {'human': 'never'}, {'AI': 'What branch of military service did you serve in, as this information is important for determining your veteran benefits and medical care?'}, {'human': 'never served'}, {'AI': 'Have you thought about how you want your assets to be distributed to align with your individual wishes?'}, {'human': 'based on my will'}, {'AI': 'How do you currently keep your financial data organized for easy access and management?'}, {'human': 'online in google drive'}, {'AI': 'What other important documents do you have that might be relevant to your specific needs?'}, {'human': 'what do you mean?'}, {'AI': 'The suggested response doesnt answer my question and asks for more information. What other important documents do I have that could be relevant to my needs?'}, {'human': 'can you clarify?'}, {'AI': 'I understand its crucial to maintain a list of essential documents like my social security card, passport, and any licenses to fulfill legal requirements and for identification. What specific documents should I consider that would be relevant to my needs?'}, {'human': 'I have a socail security card, birth certificate and passpoert'}, {'AI': 'What specific storage locations do you currently use for your physical assets and important documents?'}, {'human': 'none'}, {'AI': 'Do you have a Financial Power of Attorney'}, {'human': 'yes'}, {'AI': 'Thanks for answering, Where is the Financial Power of Attorney document stored?'}, {'human': 'in my desk draw'}, {'AI': 'Do you have healthcare accounts'}, {'human': 'yes'}, {'AI': 'Thanks for answering, Where are your healthcare account documents stored?'}, {'human': 'online'}, {'AI': 'Do you have my birth certificate'}, {'human': 'yes'}, {'AI': 'Thanks for answering, Where is your birth certificate stored?'}, {'human': 'in my desk draw in a red file'}, {'AI': 'Do you have a recent credit report'}, {'human': 'yes'}, {'AI': 'Thanks for answering, Where is your recent credit report stored? Could you provide me this information?'}, {'human': 'online in my bank account'}, {'AI': 'Do you have prior year tax returns'}, {'human': 'yes'}, {'AI': 'Thanks for answering, Where are your prior year tax returns stored? Could you please provide that information?'}, {'human': 'my email from ja'}, {'AI': 'Do You have their social security card'}, {'human': 'yes'}, {'AI': 'Thanks for answering, Where is your Social Security Card stored? Could you provide me with this information?'}, {'human': 'black file in my desk draw'}]\n",
      "[{'AI': 'Hi! Would you like to fill your Personal details?'}, {'human': 'yes'}, {'AI': 'Do you have a recent credit report'}, {'human': 'yes I have it. it is in my drawer.'}, {'AI': 'Thanks for responding, Do you have prior year tax returns'}, {'human': 'Yes, It is in my almirah.'}]\n",
      "[{'AI': 'Hi! Would you like to fill your Personal details?'}, {'human': 'hi'}, {'AI': 'Hi! Would you like to fill your Personal details?'}, {'human': 'hi'}, {'AI': 'Hi! Would you like to fill your Personal details?'}, {'human': 'i am married'}, {'AI': 'Hi! Would you like to fill your Personal details?'}, {'human': 'what is this ?'}, {'AI': 'Hi! Would you like to fill your Personal details?'}, {'human': 'sdgsdfgsdfgsdg'}, {'AI': 'Hi! Would you like to fill your Personal details?'}, {'human': 'what do you mean by this ?'}, {'AI': 'What branch of military service did you serve in, as this information is important for determining your veteran benefits and medical care?'}, {'human': 'i have srve in marines'}]\n",
      "[{'AI': 'Hi! Would you like to fill your Personal details?'}, {'human': 'yes'}, {'AI': 'Do you have healthcare accounts?'}, {'human': 'yes'}, {'AI': 'Thanks for answering, Where are your healthcare accounts stored? Please provide the location.'}, {'human': 'A blue file in the desk drawer'}, {'AI': 'Do you have my birth certificate?'}, {'human': \"yes, in a red file marked with 'Certificates'\"}, {'AI': 'Where are your healthcare accounts stored? Please provide the location.'}, {'human': 'Online'}, {'AI': 'Thanks for responding, Do you have prior year tax returns?'}, {'human': 'skip'}, {'AI': 'Moving to the next question. Do You have their social security card?'}, {'human': 'yes'}, {'AI': 'Thanks for answering, Where is your Social Security card stored? Could you provide me this information?'}, {'human': 'skip'}, {'AI': 'Do you have stock/bond certificates?'}, {'human': 'skip'}, {'AI': 'Moving to the next question. Do You have a trust established?'}, {'human': 'no'}, {'AI': 'Moving to the next question. Do you have a will?'}, {'human': 'yes'}, {'AI': 'Thanks for answering, Where is your Will document stored? Could you provide me this information?'}, {'human': 'on a folder in my closet'}, {'AI': 'Do you have divorce or separation papers?'}, {'human': 'no'}, {'AI': 'Moving to the next question. Do you have marriage or civil union papers?'}, {'human': 'yes, in a red file'}, {'AI': 'Thanks for responding, Do you have military enrollment/discharge papers?'}, {'human': 'no'}, {'AI': 'Moving to the next question. Any deferred compensation accounts?'}, {'human': 'no'}, {'AI': 'Moving to the next question. Any education savings accounts?'}, {'human': 'maybe'}, {'AI': 'Thanks for answering, Where is the Education Savings Account document stored? Could you provide me with this information?'}, {'human': 'i dont know'}, {'AI': 'The response I don’t know doesn’t tell me where the Education Savings Account document is. Can you tell me where it is stored?'}, {'human': 'skip'}, {'AI': 'Do you have a password inventory?'}, {'human': 'yes, online'}, {'AI': 'Thanks for responding, What is the name under which your Social Security Card is issued, as it serves as an important identification document?'}, {'human': 'skip'}, {'AI': 'Moving to the next question. Do you have a preferred boarding facility?'}, {'human': 'no'}, {'AI': 'Moving to the next question. Any important personal instructions?'}, {'human': 'no'}, {'AI': 'Moving to the next question. What vital documents do you currently have in place for your personal and legal matters?'}, {'human': 'none'}, {'AI': 'Thanks for answering, Where are the vital documents for adults stored? Can you provide this information?'}, {'human': 'skip'}, {'AI': 'Are there security codes required to enter your properties?'}, {'human': 'no'}, {'AI': 'Moving to the next question. Do you file tax returns?'}, {'human': 'yes'}, {'AI': 'Thanks for answering, Where are your tax returns stored? Could you provide me with that information?'}, {'human': 'online'}, {'AI': 'Do you have a passport or citizenship papers?'}, {'human': 'yes'}, {'AI': 'Thanks for answering, Where are your passport or citizenship papers stored? Could you provide that information?'}, {'human': 'red file in desk draw'}, {'AI': 'What specific benefits do you hope to gain from obtaining an OCI card in India?'}, {'human': 'can you clarify?'}, {'AI': 'The answer doesnt give me the specific information I need for my OCI Card application and is asking for more details. Can you tell me why you want to apply for an OCI Card in India?'}, {'human': 'not clear'}, {'AI': 'My answer not clear doesnt explain why I should apply for an OCI card in India. Could you clarify my current status or eligibility to apply for one?'}, {'human': 'skip'}]\n",
      "[{'AI': 'Hi! Would you like to fill your Personal details?'}, {'human': 'yes '}, {'AI': 'What type of bank and investment accounts do you currently have for tracking and access purposes?'}, {'human': 'i have a bank and investment account with Morgan stn. in US'}, {'AI': 'What are your main monthly recurring expenses that you keep track of for budgeting purposes?'}, {'human': 'i have pet expense of 1000 dollars that goes to Morgan Pet company '}, {'AI': 'What are the different sources of income that you receive, as this information is important for documentation purposes?'}, {'human': \"i'm getting salary of 1000 dollars per month , additionaly i earn 5000 dollars through stock.\"}, {'AI': 'Any other important financial assets?'}, {'human': \"i haven't any\"}, {'AI': 'Moving to the next question. Do you have checking/savings accounts?'}, {'human': 'do you have any clear idea on that'}, {'AI': 'Do you have checking/savings accounts?'}, {'human': 'i need help ?'}, {'AI': 'Moving to the next question. Do you have active credit cards?'}, {'human': 'not sure what you mean '}, {'AI': 'Moving to the next question. Do you have accidental death & dismemberment insurance?'}, {'human': 'what do you mean by insuracne ?'}, {'AI': \"Insurance is a financial product that provides protection against specific risks. In the case of Accidental Death and Disability (AD&D) insurance, it helps cover certain financial losses that could arise from accidents causing death or permanent disabilities. This kind of insurance can help ensure that you, or your beneficiaries, are financially supported if something unexpected happens. If you're unsure about how it works or need more details, feel free to ask! Do you have accidental death & dismemberment insurance?\"}, {'human': 'ohk '}, {'AI': 'Moving to the next question. Do you have life insurance?'}, {'human': 'not sure i have it '}, {'AI': 'Moving to the next question. Do you have a personal umbrella liability insurance?'}, {'human': 'may be later i will fill'}, {'AI': 'Moving to the next question. Do you have non-retirement brokerage or investment accounts?'}, {'human': 'meaning of this '}]\n",
      "[{'AI': 'Hi! Would you like to fill your Personal details?'}, {'human': 'yes'}, {'AI': 'What is your prior marital status, as it may impact your legal or financial obligations?'}, {'human': 'married'}, {'AI': 'Have you ever been divorced, as this information may impact your legal and financial responsibilities?'}, {'human': 'never'}, {'AI': 'What branch of military service did you serve in, as this information is important for determining your veteran benefits and medical care?'}, {'human': 'never served'}]\n",
      "[{'AI': 'Hi! Would you like to fill your Personal details?'}, {'human': 'yes'}, {'AI': 'What branch of military service did you serve in, as this information is important for determining your veteran benefits and medical care?'}, {'human': 'BSF'}, {'AI': 'Have you thought about how you want your assets to be distributed to align with your individual wishes?'}, {'human': 'All will go to my son.'}, {'AI': 'How do you currently keep your financial data organized for easy access and management?'}, {'human': 'maine isko apne drawer me rakha hain '}, {'AI': 'What other important documents do you have that might be relevant to your specific needs?'}, {'human': 'no'}, {'AI': 'Moving to the next question. What specific storage locations do you currently use for your physical assets and important documents?'}, {'human': 'no '}, {'AI': 'Moving to the next question. Do you have a Financial Power of Attorney?'}, {'human': 'yes my son'}, {'AI': 'Thanks for answering, Where is the Financial Power of Attorney document stored? Could you provide that information?'}, {'human': 'skip'}, {'AI': 'Do you have healthcare accounts?'}, {'human': 'yes in my bag'}, {'AI': 'Thanks for responding, Do you have my birth certificate?'}, {'human': 'Yes i have it. And it is in my hand bag.'}]\n",
      "[{'AI': 'Hi! Would you like to fill your Personal details?'}, {'human': 'yes'}]\n",
      "[{'AI': 'Hi! Would you like to fill your Personal details?'}, {'human': 'Hi'}, {'AI': 'What is your prior marital status, as it may impact your legal or financial obligations?'}, {'human': \"I'm married\"}, {'AI': 'Have you ever been divorced, as this information may impact your legal and financial responsibilities?'}, {'human': 'Yes'}, {'AI': 'What branch of military service did you serve in, as this information is important for determining your veteran benefits and medical care?'}, {'human': 'No, i have not served in military ever'}, {'AI': 'Have you thought about how you want your assets to be distributed to align with your individual wishes?'}, {'human': 'No'}, {'AI': 'How do you currently keep your financial data organized for easy access and management?'}, {'human': \"Yes, I'm managing my finances through planning and keeping all details in my personal diary. Also a LIC agent is helping me in this.\"}, {'AI': 'What other important documents do you have that might be relevant to your specific needs?'}, {'human': 'Yes, I have documents from WHO. Also, there are some documents with my father \"Mr MR Himral\"'}, {'AI': 'What specific storage locations do you currently use for your physical assets and important documents?'}, {'human': 'All documents are in my bank locker and also few of them are in my pcoket and some them are in my almirah and some o them are with my husband and some of them are with my brother'}, {'AI': 'Do you have a Financial Power of Attorney?'}, {'human': 'Yes, I have. all documents related to this is stored in google drive'}, {'AI': 'Thanks for answering, Where is the Financial Power of Attorney document stored? Could you provide that information?'}, {'human': \"I can't provide, becuase i don't trust you\"}]\n",
      "[{'AI': 'Hi! Would you like to fill your Personal details?'}, {'human': 'Yes'}, {'AI': 'What is your prior marital status, as it may impact your legal or financial obligations?'}, {'human': 'yes i am married'}, {'AI': 'Have you ever been divorced, as this information may impact your legal and financial responsibilities?'}, {'human': 'No i am not'}, {'AI': 'Moving to the next question. What branch of military service did you serve in, as this information is important for determining your veteran benefits and medical care?'}, {'human': 'yes '}, {'AI': 'My answer yes doesnt specify which branch of military service I served in. Which branch did I serve in, as this information is crucial for determining my veteran benefits and medical care?'}, {'human': 'Yes i am in a militry service in punjab air force'}, {'AI': 'Have you thought about how you want your assets to be distributed to align with your individual wishes?'}, {'human': 'fasdgsdfgdafgsdfgda'}, {'AI': 'Your proposed answer doesnt make any sense and doesnt address my question about how to distribute my assets. Have you considered how I would like my assets to be distributed according to my personal wishes?'}, {'human': 'Yes, and all the documents related to it '}, {'AI': 'How do you currently keep your financial data organized for easy access and management?'}, {'human': 'yes i keep my all the documents in my drawer'}, {'AI': 'What other important documents do you have that might be relevant to your specific needs?'}, {'human': 'yes i keep my all the documents in my drawer'}, {'AI': 'What specific storage locations do you currently use for your physical assets and important documents?'}, {'human': 'Drawer'}, {'AI': 'Do you have a Financial Power of Attorney?'}, {'human': 'yes i keep my all the documents in my drawer'}, {'AI': 'Do you have a Financial Power of Attorney?'}, {'human': 'Yes i have my financial power of attorney in my drawer and, it is safe with the locker '}, {'AI': 'Thanks for responding, Do you have my birth certificate?'}, {'human': 'Yes i have, and it is saved in bank locker'}]\n",
      "[{'AI': 'Hi! Would you like to fill your Personal details?'}, {'human': 'Yes'}, {'AI': 'What is your prior marital status, as it may impact your legal or financial obligations?'}, {'human': 'I am married'}, {'AI': 'Have you ever been divorced, as this information may impact your legal and financial responsibilities?'}, {'human': 'No i am not'}, {'AI': 'Moving to the next question. What branch of military service did you serve in, as this information is important for determining your veteran benefits and medical care?'}, {'human': 'Yes in punjab air force'}, {'AI': 'Have you thought about how you want your assets to be distributed to align with your individual wishes?'}, {'human': 'yes i have may type of documntes'}, {'AI': 'How do you currently keep your financial data organized for easy access and management?'}, {'human': 'I stored my document in my home almriah drawer'}, {'AI': 'What other important documents do you have that might be relevant to your specific needs?'}, {'human': 'i have not other document'}, {'AI': 'What specific storage locations do you currently use for your physical assets and important documents?'}, {'human': 'i stroed in home drawer '}, {'AI': 'Do you have a Financial Power of Attorney?'}, {'human': 'yes i have in my drawer in Usa'}, {'AI': 'Thanks for responding, Do you have healthcare accounts?'}, {'human': 'i havnet'}, {'AI': \"The suggested answer 'i havnet' is wrong because it implies the user lacks healthcare accounts. Do you have any healthcare accounts?\"}, {'human': 'No'}, {'AI': 'Moving to the next question. Do you have your birth certificate?'}, {'human': 'yes i have'}, {'AI': 'Where is the birth certificate document stored, could you provide me this info?'}, {'human': 'in my bag'}, {'AI': 'Do you have a recent credit report?'}, {'human': 'yes i have with 753'}, {'AI': 'Thanks for answering, Where is your recent credit report document stored?'}, {'human': 'in my g-drive'}, {'AI': 'Do you have prior year tax returns?'}, {'human': 'skip'}, {'AI': 'Moving to the next question. Do You have your social security card?'}, {'human': 'skpi'}, {'AI': \"Your response 'skpi' doesn't pertain to your social security card. Do you have your social security card?\"}, {'human': 'skip'}, {'AI': 'Moving to the next question. Do you have stock/bond certificates?'}, {'human': 'skip'}, {'AI': 'Moving to the next question. Do You have a trust established?'}, {'human': 'yes in my bag'}, {'AI': 'Thanks for responding, Do you have a will?'}, {'human': 'yes i have and it is my in bag'}, {'AI': 'Thanks for responding, Do you have divorce or separation papers?'}, {'human': 'yes in my bag'}, {'AI': 'Thanks for responding, Do you have marriage or civil union papers?'}, {'human': 'i have marriage paper only'}, {'AI': 'Thanks for answering, Where are the marriage or civil union papers stored? Could you provide that information?'}, {'human': 'in my bag'}]\n",
      "[{'AI': 'Hi! Would you like to fill your Personal details?'}, {'human': 'yes'}, {'AI': 'What is your prior marital status, as it may impact your legal or financial obligations?'}, {'human': 'I am married.'}, {'AI': 'Have you ever been divorced, as this information may impact your legal and financial responsibilities?'}, {'human': 'No never'}, {'AI': 'Moving to the next question. What branch of military service did you serve in, as this information is important for determining your veteran benefits and medical care?'}, {'human': 'I am not military person, I am working in corporate sector'}]\n",
      "[{'AI': 'Hi! Would you like to fill your Personal details?'}, {'human': 'yes'}, {'AI': 'What is your prior marital status, as it may impact your legal or financial obligations?'}, {'human': 'Yes, I was previously married.'}, {'AI': 'Have you ever been divorced, as this information may impact your legal and financial responsibilities?'}, {'human': 'We were only married for a short time before divorcing.'}, {'AI': 'What branch of military service did you serve in, as this information is important for determining your veteran benefits and medical care?'}, {'human': 'never served to military.'}, {'AI': 'Have you thought about how you want your assets to be distributed to align with your individual wishes?'}, {'human': 'Yes All will go to MY SON.'}, {'AI': 'How do you currently keep your financial data organized for easy access and management?'}, {'human': 'No organized sturcute.'}]\n",
      "[{'AI': 'Hi! Would you like to fill your Personal details?'}, {'human': 'Hi '}, {'AI': 'What is your prior marital status, as it may impact your legal or financial obligations?'}, {'human': 'Yes '}, {'AI': 'Have you ever been divorced, as this information may impact your legal and financial responsibilities?'}, {'human': 'Yes '}, {'AI': 'What branch of military service did you serve in, as this information is important for determining your veteran benefits and medical care?'}, {'human': 'Yes '}]\n",
      "[{'AI': 'Hi! Would you like to fill your Personal details?'}, {'human': 'sure'}, {'AI': 'What is your prior marital status, as it may impact your legal or financial obligations?'}, {'human': 'I was married.'}, {'AI': 'Have you ever been divorced, as this information may impact your legal and financial responsibilities?'}, {'human': 'We were married for the short time before divorcing.'}, {'AI': 'What branch of military service did you serve in, as this information is important for determining your veteran benefits and medical care?'}, {'human': 'I was in the Air Force for 8 years.'}, {'AI': 'Have you thought about how you want your assets to be distributed to align with your individual wishes?'}, {'human': 'Yes I have already have a deed for the same. That will say all of my asset go to the charity and the deed is store in the bank locker.'}, {'AI': 'How do you currently keep your financial data organized for easy access and management?'}, {'human': 'I have some kind of different accounts which will help me keep it in the organized manner. That accoounts are stored in different locations.'}, {'AI': 'What other important documents do you have that might be relevant to your specific needs?'}, {'human': \"Passport Birth certificate Social Security card Driver's license Marriage certificate Divorce decree Custody agreement\"}, {'AI': 'What specific storage locations do you currently use for your physical assets and important documents?'}, {'human': 'I have no specific location.'}, {'AI': 'What specific storage locations do you currently use for your physical assets and important documents?'}, {'human': 'I have no specific location.'}, {'AI': 'What specific storage locations do you currently use for your physical assets and important documents?'}, {'human': 'no locations.'}, {'AI': 'Moving to the next question. Do you have a Financial Power of Attorney?'}, {'human': 'yes I have that is stored in my cabinate.'}, {'AI': 'Do you have a Financial Power of Attorney?'}, {'human': 'yes'}, {'AI': 'Thanks for answering, Where are the healthcare account documents stored, could you provide me this information?'}, {'human': 'IN USA BANK'}, {'AI': 'Do you have your birth certificate?'}, {'human': 'I have it but I do not know about that that.'}, {'AI': 'Moving to the next question. Do you have a recent credit report?'}, {'human': 'No have not any type of credit.'}, {'AI': 'Moving to the next question. Do you have prior year tax returns?'}, {'human': 'I have it that is stored in the almirah drawer.'}, {'AI': 'Thanks for responding, Do You have your social security card?'}, {'human': 'Yes in bank.'}, {'AI': 'Thanks for responding, Do you have stock/bond certificates?'}, {'human': 'Currently i dont remember it.'}, {'AI': 'Moving to the next question. Do You have a trust established?'}, {'human': 'I dont know.'}]\n",
      "[{'AI': 'Hi! Would you like to fill your Personal details?'}, {'human': 'yes'}, {'AI': 'What is your prior marital status, as it may impact your legal or financial obligations?'}, {'human': 'Married'}, {'AI': 'Have you ever been divorced, as this information may impact your legal and financial responsibilities?'}, {'human': 'Never'}]\n",
      "[{'AI': 'Hi! Would you like to fill your Personal details?'}, {'human': 'yes'}, {'AI': 'What is your prior marital status, as it may impact your legal or financial obligations?'}, {'human': 'skip please'}, {'AI': 'Moving to the next question. Have you ever been divorced, as this information may impact your legal and financial responsibilities?'}, {'human': 'no'}]\n",
      "[{'AI': 'Hi! Would you like to fill your Personal details?'}, {'human': 'hi'}, {'AI': 'What is your prior marital status, as it may impact your legal or financial obligations?'}, {'human': 'single'}, {'AI': 'Hi! Would you like to fill your Personal details?'}, {'human': 'yes'}, {'AI': 'What branch of military service did you serve in, as this information is important for determining your veteran benefits and medical care?'}, {'human': 'air force'}, {'AI': 'Have you thought about how you want your assets to be distributed to align with your individual wishes?'}, {'human': '60-40'}]\n",
      "[{'AI': 'Hi! Would you like to fill your Personal details?'}, {'human': 'Hi'}, {'AI': 'What is your prior marital status, as it may impact your legal or financial obligations?'}, {'human': 'Never got married'}, {'AI': 'Have you ever been divorced, as this information may impact your legal and financial responsibilities?'}, {'human': 'Never'}, {'AI': 'What branch of military service did you serve in, as this information is important for determining your veteran benefits and medical care?'}, {'human': 'Never'}, {'AI': \"Your answer 'Never' doesn't answer the question about military service. Which branch did you serve in? This is crucial for your veteran benefits and medical care.\"}, {'human': 'I have not served in military'}, {'AI': 'Have you thought about how you want your assets to be distributed to align with your individual wishes?'}, {'human': 'Yes, I have plans'}, {'AI': 'How do you currently keep your financial data organized for easy access and management?'}, {'human': 'I have my father who help me in this'}, {'AI': 'What other important documents do you have that might be relevant to your specific needs?'}, {'human': 'its my home and property'}, {'AI': 'What specific storage locations do you currently use for your physical assets and important documents?'}, {'human': 'Its in USA'}, {'AI': 'Do you have a Financial Power of Attorney?'}, {'human': 'yes,'}]\n",
      "[{'AI': 'Hi! Would you like to fill your Personal details?'}, {'human': 'Yes'}, {'AI': 'What is your prior marital status, as it may impact your legal or financial obligations?'}, {'human': 'Married'}, {'AI': 'Have you ever been divorced, as this information may impact your legal and financial responsibilities?'}, {'human': 'Never'}, {'AI': 'What branch of military service did you serve in, as this information is important for determining your veteran benefits and medical care?'}, {'human': 'Never served in the military'}, {'AI': 'Have you thought about how you want your assets to be distributed to align with your individual wishes?'}, {'human': 'I have my wishes in a will'}, {'AI': 'How do you currently keep your financial data organized for easy access and management?'}, {'human': 'Online and in my desk draw'}, {'AI': 'What other important documents do you have that might be relevant to your specific needs?'}, {'human': 'None'}, {'AI': 'What specific storage locations do you currently use for your physical assets and important documents?'}, {'human': 'None'}, {'AI': 'Moving to the next question. Do you have a Financial Power of Attorney?'}, {'human': 'Yes'}, {'AI': 'Thanks for answering, Where is the Financial Power of Attorney document stored? Could you please provide that information?'}, {'human': 'In a red file in my desk draw'}, {'AI': 'Do you have healthcare accounts?'}, {'human': 'Yes. I have health insurance. The document is in my desk draw'}, {'AI': 'Thanks for responding, Do you have your birth certificate?'}, {'human': 'Yes. It is in my mothers home'}]\n",
      "[{'AI': 'Hi! Would you like to fill your Personal details?'}, {'human': 'Yes'}, {'AI': 'What is your prior marital status, as it may impact your legal or financial obligations?'}, {'human': 'Unmarried'}]\n",
      "[{'AI': 'Hi! Would you like to fill your Personal details?'}, {'human': 'yes'}, {'AI': 'What is your prior marital status, as it may impact your legal or financial obligations?'}, {'human': 'i am single'}, {'AI': 'Have you ever been divorced, as this information may impact your legal and financial responsibilities?'}, {'human': 'i was once '}, {'AI': 'What branch of military service did you serve in, as this information is important for determining your veteran benefits and medical care?'}, {'human': 'i did not serve '}]\n",
      "[{'AI': 'Hi! Would you like to fill your Personal details?'}, {'human': 'yes'}, {'AI': 'What is your prior marital status, as it may impact your legal or financial obligations?'}, {'human': 'divorced.'}, {'AI': 'Have you ever been divorced, as this information may impact your legal and financial responsibilities?'}, {'human': 'I am divorced'}, {'AI': 'What branch of military service did you serve in, as this information is important for determining your veteran benefits and medical care?'}, {'human': 'None. I didn’t serve in any branch of the military.'}, {'AI': 'Have you thought about how you want your assets to be distributed to align with your individual wishes?'}, {'human': 'I have not planned it for now.'}, {'AI': 'Moving to the next question. How do you currently keep your financial data organized for easy access and management?'}, {'human': 'I did not understand? Can you elobrate?'}, {'AI': 'Moving to the next question. What other important documents do you have that might be relevant to your specific needs?'}, {'human': 'Yes I have many like passport, SSN, Greencard/'}, {'AI': 'What specific storage locations do you currently use for your physical assets and important documents?'}, {'human': 'All in my private room.'}]\n",
      "[{'AI': 'Hi! Would you like to fill your Personal details?'}, {'human': 'yes'}, {'AI': 'What is your prior marital status, as it may impact your legal or financial obligations?'}, {'human': 'unmarried'}, {'AI': 'Have you ever been divorced, as this information may impact your legal and financial responsibilities?'}, {'human': \"no i haven't\"}]\n",
      "[{'AI': 'Hi! Would you like to fill your Personal details?'}, {'human': 'Yes'}, {'AI': 'What is your prior marital status, as it may impact your legal or financial obligations?'}, {'human': 'single'}, {'AI': 'Have you ever been divorced, as this information may impact your legal and financial responsibilities?'}, {'human': 'No'}, {'AI': 'Moving to the next question. What branch of military service did you serve in, as this information is important for determining your veteran benefits and medical care?'}, {'human': 'no'}, {'AI': 'Moving to the next question. Have you thought about how you want your assets to be distributed to align with your individual wishes?'}, {'human': 'Not yet.'}, {'AI': 'Moving to the next question. How do you currently keep your financial data organized for easy access and management?'}, {'human': 'I have not think about about it yet.'}, {'AI': 'Moving to the next question. What other important documents do you have that might be relevant to your specific needs?'}, {'human': 'what do you mean?'}, {'AI': \"In the context of other important documents, I mean that having certain records can be crucial for specific situations, such as legal matters, medical needs, or financial transactions. These documents might include your identification, tax records, or even medical histories. Would you like to specify which types of documents you're considering? What other important documents do you have that might be relevant to your specific needs?\"}, {'human': 'Oh okay, I have income tax return files and driving license.'}, {'AI': 'What specific storage locations do you currently use for your physical assets and important documents?'}, {'human': 'In my cabinate.'}, {'AI': 'Do you have a Financial Power of Attorney?'}, {'human': 'mean?'}, {'AI': \"A Financial Power of Attorney is a legal document that allows you to assign decision-making authority in financial matters to someone you trust. This means that the appointed person can manage your financial affairs, make decisions regarding your money, investments, property, and other assets on your behalf. It's particularly useful if you’re unable to handle your financial matters due to illness, travel, or other reasons. Do you need help understanding how to set one up? Do you have a Financial Power of Attorney?\"}, {'human': 'i need help.'}, {'AI': 'Moving to the next question. Do you have healthcare accounts?'}, {'human': 'mean?'}, {'AI': \"Mean typically refers to the average value of a set of numbers. In the context of healthcare accounts, it might not directly relate, but understanding averages can help you assess costs or coverage. If you're looking into health-related financial arrangements, knowing the average expenses of similar plans could help you make informed decisions about your healthcare options. Do you have healthcare accounts?\"}, {'human': 'i need help?'}, {'AI': \"It's understandable that you need help! Are you looking for information on how to set up a healthcare account, or do you have specific questions about health-related financial arrangements like Health Savings Accounts (HSAs) or Flexible Spending Accounts (FSAs)? These accounts can be beneficial for managing healthcare expenses. Do you have healthcare accounts?\"}, {'human': 'Sorry I dont have.'}, {'AI': 'Moving to the next question. Do you have your birth certificate?'}, {'human': 'means?'}, {'AI': 'Moving to the next question. Do you have a recent credit report?'}, {'human': 'credit report?'}, {'AI': \"The answer 'credit report?' doesn't clarify if you have a recent credit report. Do you have one?\"}, {'human': 'I mean what is credit report.'}, {'AI': 'Moving to the next question. Do you have prior year tax returns?'}, {'human': 'I am not sure about it I have check it first.'}, {'AI': 'Moving to the next question. Do You have your social security card?'}, {'human': \"I don't have them right now, but I will provide them once I get them.\"}, {'AI': 'Thanks for answering, Where is your Social Security Card stored? Can you provide me with that information?'}, {'human': 'Skip it.'}, {'AI': 'Do you have stock/bond certificates?'}, {'human': 'I dont know about the stock and bond.'}, {'AI': 'Moving to the next question. Do You have a trust established?'}, {'human': 'what is trust established.'}, {'AI': \"The proposed answer doesn't address the question because it seeks clarification on a term rather than confirming if a trust is established. Do you have an established trust?\"}, {'human': 'what is trust established?'}, {'AI': 'A trust is a legal arrangement where one party, known as the trustee, holds and manages assets for the benefit of another party, known as the beneficiary. Trusts can be established during your lifetime (revocable or irrevocable trusts) or through your will (testamentary trusts) upon your death. They are often used in estate planning to control how and when your assets are distributed after your passing, potentially reducing estate taxes and avoiding probate. \\n\\nWould you like to know more about the specific types of trusts or how they might benefit your estate planning? Do You have a trust established?'}, {'human': 'Yes I want to know more about how it will benificial in my estate planning.'}, {'AI': 'Thanks for answering, Where are the trust documents stored? Could you provide me this information?'}, {'human': 'skip.'}]\n",
      "[{'AI': 'Hi! Would you like to fill your Personal details?'}, {'human': 'Yes'}, {'AI': 'What is your prior marital status, as it may impact your legal or financial obligations?'}, {'human': 'Yes i am married'}, {'AI': 'Have you ever been divorced, as this information may impact your legal and financial responsibilities?'}, {'human': 'Never'}, {'AI': 'What branch of military service did you serve in, as this information is important for determining your veteran benefits and medical care?'}, {'human': 'i am in punjab air force'}, {'AI': 'Have you thought about how you want your assets to be distributed to align with your individual wishes?'}, {'human': 'yah i have an idea about how do i want your assets to be distributed to align my individual wishes'}, {'AI': 'How do you currently keep your financial data organized for easy access and management?'}, {'human': 'i have stored this type of financial data for easy access and management in my home bed room in my almirah'}, {'AI': 'What other important documents do you have that might be relevant to your specific needs?'}, {'human': 'i dont have any'}, {'AI': 'Moving to the next question. What specific storage locations do you currently use for your physical assets and important documents?'}, {'human': 'i stored in my bank locker'}, {'AI': 'Do you have a Financial Power of Attorney?'}, {'human': 'Yes i have my  Financial Power of Attorney'}, {'AI': 'Thanks for answering, Where is the Financial Power of Attorney document stored?'}, {'human': 'it is in my bag'}, {'AI': 'Do you have healthcare accounts?'}, {'human': 'Yes i have my healthcare accounts'}, {'AI': 'Thanks for answering, Where are the healthcare account documents stored?'}, {'human': 'it is in my home town USA '}, {'AI': 'Do you have your birth certificate?'}, {'human': 'yes i have it , But i need to search it'}, {'AI': 'Thanks for answering, Where is your birth certificate stored? Could you provide me with the location?'}, {'human': 'i dont know the location i need to search it'}, {'AI': 'Do you have a recent credit report?'}, {'human': 'yes i have '}, {'AI': 'Thanks for answering, Where is your recent credit report stored?'}, {'human': 'skip'}, {'AI': 'Do you have prior year tax returns?'}, {'human': 'Yes i have it but i dont know where it is stored'}, {'AI': 'Thanks for answering, Where are your prior year tax return documents stored? Could you provide me with that information?'}, {'human': 'i dont think so'}, {'AI': 'Do You have your social security card?'}, {'human': 'i am not sure about it'}, {'AI': 'Moving to the next question. Do you have stock/bond certificates?'}, {'human': 'i am not sure about it'}, {'AI': 'Moving to the next question. Do You have a trust established?'}, {'human': 'i am not sure about it'}, {'AI': 'Moving to the next question. Do you have a will?'}, {'human': 'i am not sure about it'}, {'AI': 'Moving to the next question. Do you have divorce or separation papers?'}, {'human': 'i am not sure about it'}]\n",
      "[{'AI': 'Hi! Would you like to fill your Personal details?'}, {'human': 'yes'}, {'AI': 'What is your prior marital status, as it may impact your legal or financial obligations?'}, {'human': 'I am single '}, {'AI': 'Have you ever been divorced, as this information may impact your legal and financial responsibilities?'}, {'human': 'No'}, {'AI': 'Moving to the next question. What branch of military service did you serve in, as this information is important for determining your veteran benefits and medical care?'}, {'human': 'No service'}, {'AI': 'Moving to the next question. Have you thought about how you want your assets to be distributed to align with your individual wishes?'}, {'human': 'what do you mean?'}, {'AI': \"When we talk about aligning the distribution of assets with your individual wishes in estate planning, it refers to the process of ensuring that your assets, like properties, investments, and personal belongings, are distributed according to your preferences once you're no longer able to manage them. This often involves creating documents like wills and trusts that clearly outline who will receive what, and under what circumstances.  \\n\\nIf you have specific wishes about your assets or particular beneficiaries you'd like to consider, it’s helpful to articulate those so that your estate plan can accurately reflect your intentions. Would you like to share any specific goals or concerns you have regarding your estate planning? Have you thought about how you want your assets to be distributed to align with your individual wishes?\"}, {'human': 'Oh but I have not thought about it.'}, {'AI': 'Moving to the next question. How do you currently keep your financial data organized for easy access and management?'}, {'human': 'By Just maintaining the balance sheet.'}, {'AI': 'What other important documents do you have that might be relevant to your specific needs?'}, {'human': 'Dont have any'}, {'AI': 'What specific storage locations do you currently use for your physical assets and important documents?'}, {'human': 'all in my almirah'}, {'AI': 'Do you have a Financial Power of Attorney?'}, {'human': 'Yes I have '}, {'AI': 'Thanks for answering, Where is the Financial Power of Attorney document stored, could you provide me this info?'}, {'human': 'I dont remember currently i will update it manually you can skip it for now.'}, {'AI': 'Do you have healthcare accounts?'}, {'human': 'no'}, {'AI': 'Moving to the next question. Do you have your birth certificate?'}, {'human': 'what is it?'}, {'AI': 'A birth certificate is an essential legal document that serves as proof of a person’s identity and age. It is often required for various legal matters, such as obtaining identification documents, enrolling in school, or applying for government benefits. Having a valid birth certificate ensures that you can navigate these processes smoothly and meet any legal obligations. Do you have your birth certificate?'}, {'human': 'oh but i dont have it right now.'}, {'AI': 'Thanks for answering, Where is your birth certificate stored? Could you provide me with that information?'}, {'human': 'skip'}, {'AI': 'Do you have a recent credit report?'}, {'human': 'I dont have any credit report.'}, {'AI': 'Moving to the next question. Do you have prior year tax returns?'}, {'human': 'No '}, {'AI': 'Moving to the next question. Do You have your social security card?'}, {'human': 'No'}, {'AI': 'Moving to the next question. Do you have stock/bond certificates?'}, {'human': 'NO'}, {'AI': 'Moving to the next question. Do You have a trust established?'}, {'human': 'I dont know about what is trust established.'}, {'AI': 'The answer provided is invalid. Do you have a trust set up?'}, {'human': 'What is the trust set up?'}, {'AI': \"A trust set up is a legal arrangement where one party, called the trustor or grantor, transfers assets to another party, the trustee, who holds and manages those assets for the benefit of a third party, known as the beneficiary. In the context of estate planning, setting up a trust can help avoid probate, minimize estate taxes, and ensure that your assets are distributed according to your wishes after your death. \\n\\nIf you're considering establishing a trust, it's essential to determine the specific type of trust that best fits your needs, such as a revocable living trust, irrevocable trust, or special needs trust, each having its own advantages and requirements. Do You have a trust established?\"}, {'human': 'I dont have.'}, {'AI': 'Moving to the next question. Do you have a will?'}, {'human': 'i have will in my almirah.'}, {'AI': 'Thanks for responding, Do you have divorce or separation papers?'}, {'human': 'I am not divorced.'}, {'AI': 'Thanks for answering, Where are the divorce or separation papers stored? Could you provide that information?'}, {'human': '                   thanks'}]\n",
      "[{'AI': 'Hi! Would you like to fill your Personal details?'}, {'human': 'hello'}, {'AI': 'What is your marital status?'}, {'human': \"i'm married\"}, {'AI': 'Have you ever been divorced?'}, {'human': 'yes'}]\n",
      "[{'AI': 'Hi! Would you like to fill your Personal details?'}, {'human': 'yes'}, {'AI': 'What is your marital status?'}, {'human': 'Married'}, {'AI': 'Have you ever been divorced?'}, {'human': 'Never'}, {'AI': 'Have you served in the military?'}, {'human': 'No'}, {'AI': 'Moving to the next question. Do you have an estate plan?'}, {'human': 'Yes'}, {'AI': \"What are some personal instructions you'd like to share for various scenarios in your life?\"}, {'human': 'What do you mean?'}, {'AI': \"In this context, having copies of other important documents is essential for various purposes. These documents can include your tax returns, Social Security card, health insurance information, and perhaps even legal documents like wills or power of attorney. They come in handy during legal proceedings, financial transactions, or even in case of emergencies. Could you specify which type of documents you might be referring to or need assistance with? What are some personal instructions you'd like to share for various scenarios in your life?\"}, {'human': 'skip'}, {'AI': 'Moving to the next question. Do you have a Financial Power of Attorney?'}, {'human': 'yes'}, {'AI': 'Thanks for answering, Where is the Financial Power of Attorney document stored? Could you provide me with this information?'}, {'human': 'In a blue file in my desk draw'}, {'AI': 'Do you have healthcare accounts?'}, {'human': 'yes'}, {'AI': 'Where are your healthcare account documents stored? Could you provide me with this information?'}, {'human': 'Red folder'}, {'AI': 'Where are your healthcare account documents stored? Could you provide me with this information?'}, {'human': 'Why is this question repeated?'}, {'AI': 'Your answer was not valid. Do you have your birth certificate?'}, {'human': 'yes'}, {'AI': 'Thanks for answering, Where is your birth certificate document stored?'}, {'human': 'In a black folder on the bookshelf'}, {'AI': 'Do you have a recent credit report?'}, {'human': 'Yes'}, {'AI': 'Thanks for answering, Where is your recent credit report document stored? Could you provide me this info?'}, {'human': 'Online in my bank account'}, {'AI': 'Do you have a will?'}, {'human': 'Yes'}, {'AI': 'Thanks for answering, Where are the Will documents stored? Could you provide that information?'}, {'human': 'It is in the filing cabinet in my closet'}, {'AI': 'Do you have divorce or separation papers?'}, {'human': 'No'}, {'AI': 'Moving to the next question. Do you have marriage or civil union papers?'}, {'human': 'Yes, in a blue file in my desk draw'}, {'AI': 'Thanks for responding, Do you have you military service papers?'}, {'human': 'never served'}, {'AI': 'Thanks for answering, Where are the military papers stored? Could you provide me with that information?'}, {'human': 'do not have a location'}, {'AI': 'The suggested answer lacks the location details for the military papers as asked. Where are the military papers kept? Can you share that information with me?'}, {'human': 'no I do not have a location'}, {'AI': '\"Where are the military papers stored? Could you provide me with that information?\"'}, {'human': 'no'}, {'AI': 'Moving to the next question. Do you have a social security card? If yes, where is it located?'}, {'human': 'yes'}, {'AI': 'Thanks for answering, Where is your Social Security Card stored?'}, {'human': 'in a black file'}, {'AI': 'Do you have tax returns?'}, {'human': 'yes'}, {'AI': 'Thanks for answering, Where are your tax return documents stored?'}, {'human': 'online in my email account. The email from my accountant JA has the attachments'}, {'AI': 'Do you have your passport and citienship papers?'}, {'human': 'yes'}, {'AI': 'Thanks for answering, Where are your Passport or Citizenship papers stored? Could you provide that information?'}, {'human': 'in my desk draw'}]\n",
      "[{'AI': 'Hi! Would you like to fill your Personal details?'}, {'human': 'Yes'}, {'AI': 'What is your marital status?'}, {'human': 'divorced.'}, {'AI': 'Have you ever been divorced?'}, {'human': 'yes.'}, {'AI': 'Have you served in the military?'}, {'human': 'no'}, {'AI': 'Moving to the next question. Do you have an estate plan?'}, {'human': 'no yet.'}, {'AI': \"Moving to the next question. What are some personal instructions you'd like to share for various scenarios in your life?\"}, {'human': 'be honest be truthful.'}, {'AI': 'Do you have a Financial Power of Attorney?'}, {'human': 'no'}, {'AI': 'Moving to the next question. Do you have healthcare accounts?'}, {'human': 'no'}, {'AI': 'Moving to the next question. Do you have your birth certificate?'}, {'human': 'no'}, {'AI': 'Moving to the next question. Do you have a recent credit report?'}, {'human': 'what is this?'}, {'AI': 'Your recent credit report provides important information that is useful for monitoring your credit health and financial planning. It allows you to see your credit score, check for any inaccuracies in your credit history, and identify any potential issues that may affect your ability to secure loans or credit in the future. By regularly reviewing your credit report, you can ensure that your credit health remains strong and make informed financial decisions. Do you have a recent credit report?'}, {'human': 'no'}, {'AI': 'Moving to the next question. Do you have a will?'}, {'human': 'what is will.'}, {'AI': 'A will is a legal document that outlines how you want your assets distributed after your death. It ensures that your wishes are carried out and can help avoid potential disputes among family members. Would you like to know more about how to create a will or what to include in it? Do you have a will?'}, {'human': 'yes'}, {'AI': 'Thanks for answering, Where are the documents related to your Will stored?'}, {'human': 'I dont remember the location for now.'}, {'AI': 'Do you have divorce or separation papers?'}, {'human': 'yes in my almirah drawer.'}, {'AI': 'Thanks for responding, Do you have marriage or civil union papers?'}, {'human': 'no I am divorced now.'}, {'AI': 'Moving to the next question. Do you have you military service papers?'}, {'human': 'no i dont have.'}, {'AI': 'Moving to the next question. Do you have a password inventory?'}, {'human': 'No I dont have anything related to it.'}, {'AI': 'Moving to the next question. Do you have a social security card? If yes, where is it located?'}, {'human': 'yes i have.'}, {'AI': 'Thanks for answering, Where is your Social Security Card stored? Could you provide me this information?'}, {'human': 'Sorry i dont remember.'}, {'AI': 'Do you have tax returns?'}, {'human': 'what is this?'}, {'AI': 'Your Record of tax filings serves as an important document that provides evidence of your compliance with tax laws and reflects your financial history. This information is crucial for various legal purposes, including loan applications, financial planning, and audits by tax authorities. Do you have tax returns?'}, {'human': 'I have it but dont know where it is stored.'}, {'AI': 'Thanks for answering, Where are your tax return documents stored? Could you please provide that information?'}, {'human': 'i said i dont know.'}, {'AI': 'Please specify where your tax return documents are stored, as this information was not provided as requested.'}, {'human': 'I dont know.'}, {'AI': 'The response lacks clarity on where the tax return documents are kept. Can you tell me where your tax return documents are stored?'}, {'human': 'skip it.'}, {'AI': 'Do you have your passport and citienship papers?'}, {'human': 'Yes but i dont know where are they placed.'}, {'AI': 'Thanks for answering, Where are your passport or citizenship papers stored?'}, {'human': 'i dont remeber.'}, {'AI': \"Your answer doesn't mention where your passport or citizenship papers are. Where are they stored?\"}, {'human': 'skip it.'}, {'AI': 'Do you have any medical contacts?'}, {'human': 'Yes my family doctory.'}, {'AI': 'Do you have a preferred banker?'}, {'human': 'what is the preferred banker?'}, {'AI': 'A preferred banker is typically a banking professional assigned to you to help manage your financial needs and provide personalized service. They can assist with various banking services, investment advice, and financial planning tailored to your goals. Are you looking to establish a relationship with a preferred banker, or do you have specific financial needs that you wish to address? Do you have a preferred banker?'}, {'human': 'Yes one of my friend is a banker and helping me to manage my finances.'}, {'AI': 'Please provide your other important contacts?'}, {'human': 'Dad: 78787878787878 Mom: 87576467576476 Brother: 526356325 Hospital 250350357 Aunty: 743725235325235'}, {'AI': 'Thanks for answering, Where are the documents for your other important contacts stored?'}, {'human': 'I have whole contanct list in my phone.'}, {'AI': 'Do you have a prefered accountant?'}, {'human': 'what is this give me with an example.'}, {'AI': 'Your answer was invalid. Do you have a preferred accountant?'}, {'human': 'what is this? Explain it with an example.'}, {'AI': 'The answer is invalid. Do you have a preferred accountant?'}, {'human': 'what is this.'}, {'AI': 'The answer was invalid. Do you have a preferred accountant?'}, {'human': 'skip'}, {'AI': 'Moving to the next question. Do you have a preferred mechanic or dealership?'}, {'human': 'I have to skip it.'}, {'AI': 'Moving to the next question. Do you have a preferred work contact?'}, {'human': 'what is this?'}, {'AI': \"The primary employment-related contact is typically your supervisor or HR representative at work. This contact is important for discussing work-related issues such as job responsibilities, benefits, and any concerns you may have. If you're unsure about something in your workplace, reaching out to them can help address your questions and provide necessary guidance. Do you have a preferred work contact?\"}, {'human': 'yes'}, {'AI': 'Thanks for answering, Where are the work contact documents stored? Could you provide me with that location?'}, {'human': \"They're saved on our internal server under the 'Contacts' directory.\"}, {'AI': 'Do you have an estate planning attorney?'}, {'human': 'no'}, {'AI': 'Moving to the next question. Do you have a primary care doctor?'}, {'human': 'yes doctor mishra.'}, {'AI': 'Moving to the next question. Do you have a primary care doctor?'}, {'human': 'yes doctor mishra.'}, {'AI': 'Thanks for responding, Do you have a preferred spiritual advisor?'}, {'human': 'yes Dr. zing lee.'}, {'AI': 'Thanks for responding, Do you have a dentist?'}, {'human': 'No'}, {'AI': 'Moving to the next question. Do you have an eye doctor?'}, {'human': 'NO'}, {'AI': 'Who are the contacts in case of emergency?'}, {'human': 'No one'}, {'AI': 'Moving to the next question. Do you have any digital assets that you want to protect?'}, {'human': 'yes '}, {'AI': 'Do you have trusts established?'}, {'human': 'no its not '}, {'AI': 'Moving to the next question. Do you have any funeral preferences?'}, {'human': 'Yes it should be done by full procedure.'}, {'AI': 'Thanks for responding, Would you like to donate your organs?'}, {'human': 'Yes I want to donate my organs.'}, {'AI': 'Thanks for answering, Where are the documents related to organ donation stored?'}, {'human': 'I have not for now I will create for that.'}, {'AI': 'Have you made any prepayments for your funeral arrangements?'}, {'human': 'yes my insurance money help for it.'}, {'AI': 'Thanks for answering, Where are the documents related to your prepaid funeral arrangements stored? Could you provide me this information?'}, {'human': 'yes my insurance paper is located in the drawer.'}, {'AI': 'Do you have any charities you support?'}, {'human': 'i dont support any charities.'}, {'AI': 'Moving to the next question. Do you have any legacy letters or would you like to provide a message?'}, {'human': 'what is this?'}, {'AI': 'Legacy letters or messages are heartfelt notes you write to your loved ones, often reflecting your feelings, memories, or advice you want to share. They can serve as a lasting token of your love, providing comfort and guidance for those you leave behind. Are you thinking of writing one, or do you have a specific loved one in mind? Do you have any legacy letters or would you like to provide a message?'}, {'human': 'mp'}, {'AI': 'Your answer is not valid. Do you have any legacy letters or a message to share?'}, {'human': 'no'}, {'AI': 'Moving to the next question. What are your sources of personal income?'}, {'human': 'there are many sources.'}, {'AI': 'Do you have any deferred compensation accounts?'}, {'human': 'yes but currently we dont know where.'}]\n",
      "[{'AI': 'Hi! Would you like to fill your Personal details?'}, {'human': 'hi'}, {'AI': 'Hi! Would you like to fill your Personal details?'}, {'human': 'i am married'}]\n",
      "[{'AI': 'Hi! Would you like to fill your Personal data?'}, {'human': 'hi'}, {'AI': 'What is the date of your marriage, as this may be needed for legal documents?'}, {'human': '20-12-2025'}]\n",
      "[{'AI': 'Hi! Would you like to fill your Personal details?'}, {'human': 'hi'}, {'AI': 'What is your first name, as it is often required for various identification purposes?'}, {'human': 'kartikey'}, {'AI': 'What is your first name, as it is often required for various identification purposes?'}, {'human': 'shaurya'}, {'AI': 'What is your first name, as it is often required for various identification purposes?'}, {'human': 'my borth is 12 oct 2001'}, {'AI': 'What is your first name, as it is often required for various identification purposes?'}, {'human': 'i have been married for 12 years '}, {'AI': 'What is your first name, as it is often required for various identification purposes?'}, {'human': 'skip '}, {'AI': 'What is your first name, as it is often required for various identification purposes?'}, {'human': 'yes '}, {'AI': 'What is your first name, as it is often required for various identification purposes?'}, {'human': 'yes because of the money dispute '}, {'AI': 'What is your first name, as it is often required for various identification purposes?'}, {'human': 'i did not served it '}, {'AI': 'What is your first name, as it is often required for various identification purposes?'}, {'human': 'i have hippa release'}, {'AI': 'What is your first name, as it is often required for various identification purposes?'}, {'human': 'i have hippa release which is under my son name'}, {'AI': 'What is your first name, as it is often required for various identification purposes?'}, {'human': 'i have hippa release which is under my son name , i am taking about villaa in maimi'}, {'AI': 'What is your first name, as it is often required for various identification purposes?'}, {'human': 'skip'}, {'AI': 'What is your first name, as it is often required for various identification purposes?'}, {'human': 'its around 1000000 dolars'}, {'AI': 'What is your first name, as it is often required for various identification purposes?'}, {'human': 'i have my passport'}, {'AI': 'What is your first name, as it is often required for various identification purposes?'}, {'human': 'i have none storage'}, {'AI': 'What is your first name, as it is often required for various identification purposes?'}, {'human': 'i dont  hvae storage'}, {'AI': 'What is your first name, as it is often required for various identification purposes?'}, {'human': 'yes i have '}, {'AI': 'What is your first name, as it is often required for various identification purposes?'}, {'human': 'It is stored in drawer '}, {'AI': 'What is your first name, as it is often required for various identification purposes?'}, {'human': 'yes i do '}, {'AI': 'What is your first name, as it is often required for various identification purposes?'}, {'human': 'in my drawer '}, {'AI': 'What is your first name, as it is often required for various identification purposes?'}, {'human': 'yes i do '}, {'AI': 'What is your first name, as it is often required for various identification purposes?'}, {'human': 'its in my google drive'}, {'AI': 'What is your first name, as it is often required for various identification purposes?'}, {'human': 'No i dont have '}, {'AI': 'What is your first name, as it is often required for various identification purposes?'}, {'human': 'No i dont have '}]\n",
      "[{'AI': 'Hi! Would you like to fill your Personal details?'}, {'human': 'Yes '}]\n",
      "[{'AI': 'Hi! Would you like to fill your Personal details?'}, {'human': 'Hi'}]\n",
      "[{'AI': 'Hi! Would you like to fill your Personal data?'}, {'human': 'hi'}, {'AI': 'What is your full name as it appears on your birth certificate, which is often required for legal identification purposes?'}, {'human': '12/8/2025'}]\n",
      "[{'AI': 'Hi! Would you like to fill your Personal data?'}, {'human': 'hi'}, {'AI': 'What specific instructions do you need to provide for temporary care situations?'}, {'human': 'no'}, {'AI': 'Hi! Would you like to fill your Personal data?'}, {'human': 'hi'}, {'AI': 'What specific long-term care instructions do you have in mind, such as dietary restrictions or medication management for someone with a condition like diabetes?'}, {'human': 'i have a long-term care from morgan stanley'}, {'AI': 'What specific long-term care arrangements do you currently have in place for yourself or a loved one? For example, you might say \"I have arranged for a caregiver to come in three times a week to help with daily activities.\"'}, {'human': 'I have arranged for a caregiver to come in three times a week to help with daily activities.'}, {'AI': 'What is the location where the permanent care instructions are stored?'}, {'human': 'its in my drawer'}]\n",
      "[{'AI': 'Hi! Would you like to fill your Personal data?'}, {'human': 'yes'}, {'AI': 'What type of passport or citizenship papers do you currently possess that allows you to travel and reside legally?'}, {'human': 'I currently possess a USA passport, which allows me to travel internationally and reside legally in USA.'}, {'AI': 'What is the country of your citizenship that will be listed on your passport? For example, it could be \"United States\" or \"Canada\".'}, {'human': 'I mean to say I have UNITED STATES Passport.'}, {'AI': 'Where do you need to submit your passport or citizenship papers?'}, {'human': 'I do not need to submit.'}, {'AI': '\"Where is the location where you need to submit your passport or citizenship papers?\"'}, {'human': 'There is no specific location.'}, {'AI': 'What types of insurance coverage do you currently have for your health, property, and any other areas of concern?'}, {'human': 'Individual Health Insurance\" + \"Dental Insurance'}, {'AI': 'What types of bank and investment accounts do you currently have for tracking your financial activity?'}, {'human': 'I maintain a Joint Checking Account with my spouse and a Business Checking Account for my company'}, {'AI': 'What are the monthly or recurring expenses you typically keep track of?'}, {'human': 'I track monthly rent, utilities, car payment, groceries, and phone bill.'}, {'AI': 'What are your primary sources of income that we need to document for verification purposes?'}, {'human': 'I have no income source.'}, {'AI': 'What other financial assets do you currently hold that should be recorded for your financial overview?'}, {'human': 'I hold real estate property, company stocks, government bonds, and a certificate of deposit'}, {'AI': '\"What is the location of your other financial assets?\"'}, {'human': 'outside the country like in india, japan and itlay.'}, {'AI': 'What features do you prioritize when managing your daily finances in your checking or savings accounts?'}, {'human': 'Interest rates'}, {'AI': 'Where is your checking or savings account located?'}, {'human': 'in germany.'}, {'AI': 'What type of credit cards do you currently have, and how do you manage your debt with them?'}, {'human': 'I have master credit card and I will manage to pay monthly installments.'}, {'AI': 'What is the location of the physical card issuer for your credit card?'}, {'human': 'in city bank'}]\n",
      "[{'AI': 'Hi! Would you like to fill your Personal details?'}, {'human': 'hi'}, {'AI': 'Can you provide details about your previous marital status, as this may impact your legal or financial obligations?'}, {'human': 'i am unmarried'}]\n",
      "[{'AI': 'Hi! Would you like to fill your Personal details?'}, {'human': 'hello '}, {'AI': 'Can you provide details about your previous marital status, as this may affect your current legal or financial obligations?'}, {'human': 'hello '}]\n",
      "[{'AI': 'Hi! Would you like to fill your Personal data?'}, {'human': 'HI'}, {'AI': 'What was your marital status prior to this marriage, as this may affect your legal or financial obligations?'}, {'human': \"I'M GOOD\"}]\n",
      "[{'AI': 'Hi! Would you like to fill your Personal data?'}, {'human': '\"\"'}]\n"
     ]
    }
   ],
   "source": [
    "for conversation in x:\n",
    "    if conversation == []:\n",
    "        pass\n",
    "    else:\n",
    "        print(conversation)\n",
    "\n",
    "        for msg in conversation:\n",
    "            if 'AI' in msg:\n",
    "                ai_messages.append(msg['AI'])\n",
    "                human_messages.append(\"\")  # Placeholder for missing human responses\n",
    "            elif 'human' in msg:\n",
    "                human_messages[-1] = msg['human']  "
   ]
  },
  {
   "cell_type": "code",
   "execution_count": 86,
   "metadata": {},
   "outputs": [],
   "source": [
    "dx = pd.DataFrame({'AI': ai_messages, 'Human': human_messages})\n"
   ]
  },
  {
   "cell_type": "code",
   "execution_count": 88,
   "metadata": {},
   "outputs": [],
   "source": [
    "dx.to_csv(\"personal_question.csv\")"
   ]
  },
  {
   "cell_type": "code",
   "execution_count": 89,
   "metadata": {},
   "outputs": [
    {
     "data": {
      "text/html": [
       "<div>\n",
       "<style scoped>\n",
       "    .dataframe tbody tr th:only-of-type {\n",
       "        vertical-align: middle;\n",
       "    }\n",
       "\n",
       "    .dataframe tbody tr th {\n",
       "        vertical-align: top;\n",
       "    }\n",
       "\n",
       "    .dataframe thead th {\n",
       "        text-align: right;\n",
       "    }\n",
       "</style>\n",
       "<table border=\"1\" class=\"dataframe\">\n",
       "  <thead>\n",
       "    <tr style=\"text-align: right;\">\n",
       "      <th></th>\n",
       "      <th>AI</th>\n",
       "      <th>Human</th>\n",
       "    </tr>\n",
       "  </thead>\n",
       "  <tbody>\n",
       "    <tr>\n",
       "      <th>0</th>\n",
       "      <td>Hi! Would you like to fill your Personal data?</td>\n",
       "      <td>Yes</td>\n",
       "    </tr>\n",
       "    <tr>\n",
       "      <th>1</th>\n",
       "      <td>Can you provide details about your prior marit...</td>\n",
       "      <td>Married</td>\n",
       "    </tr>\n",
       "    <tr>\n",
       "      <th>2</th>\n",
       "      <td>Have you ever been divorced, as this informati...</td>\n",
       "      <td>Never</td>\n",
       "    </tr>\n",
       "    <tr>\n",
       "      <th>3</th>\n",
       "      <td>Which branch of military service did you serve...</td>\n",
       "      <td>Never Served</td>\n",
       "    </tr>\n",
       "    <tr>\n",
       "      <th>4</th>\n",
       "      <td>What specific wishes do you have regarding you...</td>\n",
       "      <td>Can you please provide more information?</td>\n",
       "    </tr>\n",
       "    <tr>\n",
       "      <th>...</th>\n",
       "      <td>...</td>\n",
       "      <td>...</td>\n",
       "    </tr>\n",
       "    <tr>\n",
       "      <th>582</th>\n",
       "      <td>Hi! Would you like to fill your Personal details?</td>\n",
       "      <td>hello</td>\n",
       "    </tr>\n",
       "    <tr>\n",
       "      <th>583</th>\n",
       "      <td>Can you provide details about your previous ma...</td>\n",
       "      <td>hello</td>\n",
       "    </tr>\n",
       "    <tr>\n",
       "      <th>584</th>\n",
       "      <td>Hi! Would you like to fill your Personal data?</td>\n",
       "      <td>HI</td>\n",
       "    </tr>\n",
       "    <tr>\n",
       "      <th>585</th>\n",
       "      <td>What was your marital status prior to this mar...</td>\n",
       "      <td>I'M GOOD</td>\n",
       "    </tr>\n",
       "    <tr>\n",
       "      <th>586</th>\n",
       "      <td>Hi! Would you like to fill your Personal data?</td>\n",
       "      <td>\"\"</td>\n",
       "    </tr>\n",
       "  </tbody>\n",
       "</table>\n",
       "<p>587 rows × 2 columns</p>\n",
       "</div>"
      ],
      "text/plain": [
       "                                                    AI  \\\n",
       "0       Hi! Would you like to fill your Personal data?   \n",
       "1    Can you provide details about your prior marit...   \n",
       "2    Have you ever been divorced, as this informati...   \n",
       "3    Which branch of military service did you serve...   \n",
       "4    What specific wishes do you have regarding you...   \n",
       "..                                                 ...   \n",
       "582  Hi! Would you like to fill your Personal details?   \n",
       "583  Can you provide details about your previous ma...   \n",
       "584     Hi! Would you like to fill your Personal data?   \n",
       "585  What was your marital status prior to this mar...   \n",
       "586     Hi! Would you like to fill your Personal data?   \n",
       "\n",
       "                                        Human  \n",
       "0                                         Yes  \n",
       "1                                     Married  \n",
       "2                                       Never  \n",
       "3                                Never Served  \n",
       "4    Can you please provide more information?  \n",
       "..                                        ...  \n",
       "582                                    hello   \n",
       "583                                    hello   \n",
       "584                                        HI  \n",
       "585                                  I'M GOOD  \n",
       "586                                        \"\"  \n",
       "\n",
       "[587 rows x 2 columns]"
      ]
     },
     "execution_count": 89,
     "metadata": {},
     "output_type": "execute_result"
    }
   ],
   "source": [
    "dx"
   ]
  },
  {
   "cell_type": "code",
   "execution_count": 90,
   "metadata": {},
   "outputs": [],
   "source": [
    "from openai import OpenAI\n",
    "import json\n",
    " \n",
    "client = OpenAI()\n",
    " \n",
    "def validate_response_new(question: str, answer: str) -> dict:\n",
    "    \"\"\"\n",
    "    Validates whether a given response is valid based on predefined rules.\n",
    " \n",
    "    Parameters:\n",
    "        question (str): The question asked.\n",
    "        answer (str): The human response.\n",
    " \n",
    "    Returns:\n",
    "        dict: A structured response (e.g., {\"result\": \"yes\", \"location\": \"drawer\", \"reason\": \"Location provided\"})\n",
    "    \"\"\"\n",
    " \n",
    "    prompt = f\"\"\"\n",
    "    You are in a Q&A session, validating whether an answer satisfies a question to gather information.\n",
    " \n",
    "    **Rules:**\n",
    "    1. If the answer contains a location (e.g., \"in my drawer\", \"at home\", \"in New York\"), return:\n",
    "       {{\n",
    "          \"result\": \"yes\",\n",
    "          \"location\": \"<EXTRACTED LOCATION>\",\n",
    "       }}\n",
    "    2. If the answer includes \"Yes\" or similar, return:\n",
    "       {{\n",
    "          \"result\": \"yes\",\n",
    "       }}\n",
    "    3. If the answer includes \"Maybe\" or similar, return:\n",
    "       {{\n",
    "          \"result\": \"loop\",\n",
    "       }}\n",
    "    4. If the answer includes \"No\", \"Skip\", or similar, return:\n",
    "       {{\n",
    "          \"result\": \"skip\",\n",
    "          \n",
    "       }}\n",
    "    5. If the answer is a question, return:\n",
    "       {{\n",
    "          \"result\": \"question\",\n",
    "       }}\n",
    " \n",
    "    **Strictly return only valid JSON. Do NOT include explanations or extra text.**\n",
    "   \n",
    "    **Question:** {question}  \n",
    "    **Answer:** {answer}\n",
    "    \"\"\"\n",
    " \n",
    "    completion = client.chat.completions.create(\n",
    "        model=\"gpt-4o-mini\",  \n",
    "        messages=[{\"role\": \"system\", \"content\": prompt}],\n",
    "        response_format={\"type\": \"json_object\"} \n",
    "    )\n",
    " \n",
    "    response_data = json.loads(completion.choices[0].message.content)  \n",
    "\n",
    "    try:\n",
    "        prompt_result = response_data[\"result\"]\n",
    "\n",
    "        if prompt_result.lower()== \"yes\":\n",
    "            prompt_result = \"answered\"\n",
    "    except:\n",
    "        prompt_result = \"skip\" \n",
    " \n",
    "    return prompt_result "
   ]
  },
  {
   "cell_type": "code",
   "execution_count": 91,
   "metadata": {},
   "outputs": [
    {
     "data": {
      "text/plain": [
       "Index(['AI', 'Human'], dtype='object')"
      ]
     },
     "execution_count": 91,
     "metadata": {},
     "output_type": "execute_result"
    }
   ],
   "source": [
    "dx.columns"
   ]
  },
  {
   "cell_type": "code",
   "execution_count": null,
   "metadata": {},
   "outputs": [],
   "source": [
    "dx[\"prompt_result\"]="
   ]
  },
  {
   "cell_type": "code",
   "execution_count": 92,
   "metadata": {},
   "outputs": [],
   "source": [
    "dx[\"AI_Validated\"] = dx.apply(lambda row: validate_response_new(row[\"AI\"], row[\"Human\"]), axis=1)\n"
   ]
  },
  {
   "cell_type": "code",
   "execution_count": 93,
   "metadata": {},
   "outputs": [],
   "source": [
    "dx.to_csv(\"dx.csv\")"
   ]
  },
  {
   "cell_type": "code",
   "execution_count": 97,
   "metadata": {},
   "outputs": [],
   "source": [
    "dx2 = dx.drop_duplicates(subset=[\"AI\"])"
   ]
  },
  {
   "cell_type": "code",
   "execution_count": 99,
   "metadata": {},
   "outputs": [],
   "source": [
    "dx2.to_csv(\"final.csv\")"
   ]
  },
  {
   "cell_type": "code",
   "execution_count": 102,
   "metadata": {},
   "outputs": [
    {
     "data": {
      "text/plain": [
       "'skip'"
      ]
     },
     "execution_count": 102,
     "metadata": {},
     "output_type": "execute_result"
    }
   ],
   "source": [
    "validate_response_new(\"What specific long-term care instructions do you have in mind, such as dietary restrictions or medication management for someone with a condition like diabetes?\",\"i have a long-term care from morgan stanley\")"
   ]
  },
  {
   "cell_type": "markdown",
   "metadata": {},
   "source": [
    "## 3.0 New prompts march 19"
   ]
  },
  {
   "cell_type": "code",
   "execution_count": 108,
   "metadata": {},
   "outputs": [],
   "source": [
    "from openai import OpenAI\n",
    "import json\n",
    " \n",
    "client = OpenAI()\n",
    " \n",
    "def validate_response_new2(question: str, answer: str) -> dict:\n",
    "    \"\"\"\n",
    "    Validates whether a given response is valid based on predefined rules.\n",
    " \n",
    "    Parameters:\n",
    "        question (str): The question asked.\n",
    "        answer (str): The human response.\n",
    " \n",
    "    Returns:\n",
    "        dict: A structured response (e.g., {\"result\": \"yes\", \"location\": \"drawer\", \"reason\": \"Location provided\"})\n",
    "    \"\"\"\n",
    " \n",
    "    prompt = f\"\"\"\n",
    "    You are in a Q&A session, validating whether an answer satisfies a question to gather information.\n",
    " \n",
    "    **Rules:**\n",
    "    1. If the answer contains a location (e.g., \"in my drawer\", \"at home\", \"in New York\"), return:\n",
    "       {{\n",
    "          \"result\": \"yes\",\n",
    "          \"location\": \"<EXTRACTED LOCATION>\",\n",
    "       }}\n",
    "    2. If the answer includes \"Yes\" or similar, return:\n",
    "       {{\n",
    "          \"result\": \"yes\",\n",
    "       }}\n",
    "    3. If the answer includes \"Maybe\" or similar, return:\n",
    "       {{\n",
    "          \"result\": \"loop\",\n",
    "       }}\n",
    "    4. If the answer includes \"No\", \"Skip\", or similar, return:\n",
    "       {{\n",
    "          \"result\": \"skip\",\n",
    "          \n",
    "       }}\n",
    "    5. If the answer is a question, return:\n",
    "       {{\n",
    "          \"result\": \"question\",\n",
    "       }}\n",
    "    \n",
    "    6. If the answer contains both a response (e.g., \"Yes, I have\") **and** a question (e.g., \"Can you explain more?\"), or similar, return:\n",
    "       {{\n",
    "          \"result\": \"question\",\n",
    "          \"message\": \"The user partially answered but needs clarification. Explain again before proceeding.\"\n",
    "       }} \n",
    "       \n",
    "    **Strictly return only valid JSON. Do NOT include explanations or extra text.**\n",
    "   \n",
    "    **Question:** {question}  \n",
    "    **Answer:** {answer}\n",
    "    \"\"\"\n",
    " \n",
    "    completion = client.chat.completions.create(\n",
    "        model=\"gpt-4o-mini\",  \n",
    "        messages=[{\"role\": \"system\", \"content\": prompt}],\n",
    "        response_format={\"type\": \"json_object\"} \n",
    "    )\n",
    " \n",
    "    response_data = json.loads(completion.choices[0].message.content)  \n",
    "\n",
    "    try:\n",
    "        prompt_result = response_data[\"result\"]\n",
    "\n",
    "        if prompt_result.lower()== \"yes\":\n",
    "            prompt_result = \"answered\"\n",
    "    except:\n",
    "        prompt_result = \"skip\" \n",
    " \n",
    "    return prompt_result "
   ]
  },
  {
   "cell_type": "code",
   "execution_count": 111,
   "metadata": {},
   "outputs": [],
   "source": [
    "df = pd.read_csv(\"Test Set Validation - final_sheet_prompt.csv\")"
   ]
  },
  {
   "cell_type": "code",
   "execution_count": 136,
   "metadata": {},
   "outputs": [
    {
     "data": {
      "text/html": [
       "<div>\n",
       "<style scoped>\n",
       "    .dataframe tbody tr th:only-of-type {\n",
       "        vertical-align: middle;\n",
       "    }\n",
       "\n",
       "    .dataframe tbody tr th {\n",
       "        vertical-align: top;\n",
       "    }\n",
       "\n",
       "    .dataframe thead th {\n",
       "        text-align: right;\n",
       "    }\n",
       "</style>\n",
       "<table border=\"1\" class=\"dataframe\">\n",
       "  <thead>\n",
       "    <tr style=\"text-align: right;\">\n",
       "      <th></th>\n",
       "      <th>ai</th>\n",
       "      <th>human/ response from user</th>\n",
       "      <th>ground truth</th>\n",
       "      <th>ai_validated/test result</th>\n",
       "      <th>human validation</th>\n",
       "      <th>unnamed: 5</th>\n",
       "      <th>unnamed: 6</th>\n",
       "      <th>unnamed: 7</th>\n",
       "      <th>ai_validated_part2</th>\n",
       "      <th>final_result</th>\n",
       "    </tr>\n",
       "  </thead>\n",
       "  <tbody>\n",
       "    <tr>\n",
       "      <th>0</th>\n",
       "      <td>Hi! Would you like to fill your Personal data?</td>\n",
       "      <td>yes</td>\n",
       "      <td>answered</td>\n",
       "      <td>answered</td>\n",
       "      <td>Correct Result</td>\n",
       "      <td>NaN</td>\n",
       "      <td>NaN</td>\n",
       "      <td>NaN</td>\n",
       "      <td>answered</td>\n",
       "      <td>True</td>\n",
       "    </tr>\n",
       "    <tr>\n",
       "      <th>1</th>\n",
       "      <td>Can you provide details about your prior marit...</td>\n",
       "      <td>married</td>\n",
       "      <td>answered</td>\n",
       "      <td>answered</td>\n",
       "      <td>Correct Result</td>\n",
       "      <td>NaN</td>\n",
       "      <td>NaN</td>\n",
       "      <td>NaN</td>\n",
       "      <td>answered</td>\n",
       "      <td>True</td>\n",
       "    </tr>\n",
       "    <tr>\n",
       "      <th>2</th>\n",
       "      <td>Have you ever been divorced, as this informati...</td>\n",
       "      <td>never</td>\n",
       "      <td>skip</td>\n",
       "      <td>skip</td>\n",
       "      <td>Correct Result</td>\n",
       "      <td>NaN</td>\n",
       "      <td>NaN</td>\n",
       "      <td>NaN</td>\n",
       "      <td>skip</td>\n",
       "      <td>True</td>\n",
       "    </tr>\n",
       "    <tr>\n",
       "      <th>3</th>\n",
       "      <td>Which branch of military service did you serve...</td>\n",
       "      <td>never served</td>\n",
       "      <td>skip</td>\n",
       "      <td>skip</td>\n",
       "      <td>Correct Result</td>\n",
       "      <td>NaN</td>\n",
       "      <td>Gound Truth</td>\n",
       "      <td>The Values that should be output from bot (Cor...</td>\n",
       "      <td>skip</td>\n",
       "      <td>True</td>\n",
       "    </tr>\n",
       "    <tr>\n",
       "      <th>4</th>\n",
       "      <td>What specific wishes do you have regarding you...</td>\n",
       "      <td>can you please provide more information?</td>\n",
       "      <td>question</td>\n",
       "      <td>question</td>\n",
       "      <td>Correct Result</td>\n",
       "      <td>NaN</td>\n",
       "      <td>Ai Validated Results</td>\n",
       "      <td>Responses that are coming from AI prompts</td>\n",
       "      <td>question</td>\n",
       "      <td>True</td>\n",
       "    </tr>\n",
       "    <tr>\n",
       "      <th>...</th>\n",
       "      <td>...</td>\n",
       "      <td>...</td>\n",
       "      <td>...</td>\n",
       "      <td>...</td>\n",
       "      <td>...</td>\n",
       "      <td>...</td>\n",
       "      <td>...</td>\n",
       "      <td>...</td>\n",
       "      <td>...</td>\n",
       "      <td>...</td>\n",
       "    </tr>\n",
       "    <tr>\n",
       "      <th>281</th>\n",
       "      <td>What type of credit cards do you currently hav...</td>\n",
       "      <td>i have master credit card and i will manage to...</td>\n",
       "      <td>answered</td>\n",
       "      <td>answered</td>\n",
       "      <td>Correct Result</td>\n",
       "      <td>NaN</td>\n",
       "      <td>NaN</td>\n",
       "      <td>NaN</td>\n",
       "      <td>answered</td>\n",
       "      <td>True</td>\n",
       "    </tr>\n",
       "    <tr>\n",
       "      <th>282</th>\n",
       "      <td>What is the location of the physical card issu...</td>\n",
       "      <td>in city bank</td>\n",
       "      <td>answered</td>\n",
       "      <td>answered</td>\n",
       "      <td>Correct Result</td>\n",
       "      <td>NaN</td>\n",
       "      <td>NaN</td>\n",
       "      <td>NaN</td>\n",
       "      <td>answered</td>\n",
       "      <td>True</td>\n",
       "    </tr>\n",
       "    <tr>\n",
       "      <th>283</th>\n",
       "      <td>Can you provide details about your previous ma...</td>\n",
       "      <td>i am unmarried</td>\n",
       "      <td>answered</td>\n",
       "      <td>skip</td>\n",
       "      <td>Correct Result</td>\n",
       "      <td>NaN</td>\n",
       "      <td>NaN</td>\n",
       "      <td>NaN</td>\n",
       "      <td>skip</td>\n",
       "      <td>False</td>\n",
       "    </tr>\n",
       "    <tr>\n",
       "      <th>284</th>\n",
       "      <td>Can you provide details about your previous ma...</td>\n",
       "      <td>hello</td>\n",
       "      <td>loop</td>\n",
       "      <td>question</td>\n",
       "      <td>Incorrect Result</td>\n",
       "      <td>NaN</td>\n",
       "      <td>NaN</td>\n",
       "      <td>NaN</td>\n",
       "      <td>question</td>\n",
       "      <td>False</td>\n",
       "    </tr>\n",
       "    <tr>\n",
       "      <th>285</th>\n",
       "      <td>What was your marital status prior to this mar...</td>\n",
       "      <td>i'm good</td>\n",
       "      <td>skip</td>\n",
       "      <td>skip</td>\n",
       "      <td>Correct Result</td>\n",
       "      <td>NaN</td>\n",
       "      <td>NaN</td>\n",
       "      <td>NaN</td>\n",
       "      <td>skip</td>\n",
       "      <td>True</td>\n",
       "    </tr>\n",
       "  </tbody>\n",
       "</table>\n",
       "<p>286 rows × 10 columns</p>\n",
       "</div>"
      ],
      "text/plain": [
       "                                                    ai  \\\n",
       "0       Hi! Would you like to fill your Personal data?   \n",
       "1    Can you provide details about your prior marit...   \n",
       "2    Have you ever been divorced, as this informati...   \n",
       "3    Which branch of military service did you serve...   \n",
       "4    What specific wishes do you have regarding you...   \n",
       "..                                                 ...   \n",
       "281  What type of credit cards do you currently hav...   \n",
       "282  What is the location of the physical card issu...   \n",
       "283  Can you provide details about your previous ma...   \n",
       "284  Can you provide details about your previous ma...   \n",
       "285  What was your marital status prior to this mar...   \n",
       "\n",
       "                             human/ response from user ground truth  \\\n",
       "0                                                  yes     answered   \n",
       "1                                              married     answered   \n",
       "2                                                never         skip   \n",
       "3                                         never served         skip   \n",
       "4             can you please provide more information?     question   \n",
       "..                                                 ...          ...   \n",
       "281  i have master credit card and i will manage to...     answered   \n",
       "282                                       in city bank     answered   \n",
       "283                                     i am unmarried     answered   \n",
       "284                                              hello         loop   \n",
       "285                                           i'm good         skip   \n",
       "\n",
       "    ai_validated/test result  human validation  unnamed: 5  \\\n",
       "0                   answered    Correct Result         NaN   \n",
       "1                   answered    Correct Result         NaN   \n",
       "2                       skip    Correct Result         NaN   \n",
       "3                       skip    Correct Result         NaN   \n",
       "4                   question    Correct Result         NaN   \n",
       "..                       ...               ...         ...   \n",
       "281                 answered    Correct Result         NaN   \n",
       "282                 answered    Correct Result         NaN   \n",
       "283                     skip    Correct Result         NaN   \n",
       "284                 question  Incorrect Result         NaN   \n",
       "285                     skip    Correct Result         NaN   \n",
       "\n",
       "               unnamed: 6                                         unnamed: 7  \\\n",
       "0                     NaN                                                NaN   \n",
       "1                     NaN                                                NaN   \n",
       "2                     NaN                                                NaN   \n",
       "3            Gound Truth   The Values that should be output from bot (Cor...   \n",
       "4    Ai Validated Results          Responses that are coming from AI prompts   \n",
       "..                    ...                                                ...   \n",
       "281                   NaN                                                NaN   \n",
       "282                   NaN                                                NaN   \n",
       "283                   NaN                                                NaN   \n",
       "284                   NaN                                                NaN   \n",
       "285                   NaN                                                NaN   \n",
       "\n",
       "    ai_validated_part2  final_result  \n",
       "0             answered          True  \n",
       "1             answered          True  \n",
       "2                 skip          True  \n",
       "3                 skip          True  \n",
       "4             question          True  \n",
       "..                 ...           ...  \n",
       "281           answered          True  \n",
       "282           answered          True  \n",
       "283               skip         False  \n",
       "284           question         False  \n",
       "285               skip          True  \n",
       "\n",
       "[286 rows x 10 columns]"
      ]
     },
     "execution_count": 136,
     "metadata": {},
     "output_type": "execute_result"
    }
   ],
   "source": [
    "df"
   ]
  },
  {
   "cell_type": "code",
   "execution_count": 113,
   "metadata": {},
   "outputs": [],
   "source": [
    "df[\"AI_Validated_part2\"] = df.apply(lambda row: validate_response_new2(row[\"AI\"], row['Human/ Response from User']), axis=1)\n"
   ]
  },
  {
   "cell_type": "code",
   "execution_count": 120,
   "metadata": {},
   "outputs": [],
   "source": [
    "df.columns = df.columns.str.lower()"
   ]
  },
  {
   "cell_type": "code",
   "execution_count": 124,
   "metadata": {},
   "outputs": [],
   "source": [
    "df[\"human/ response from user\"] = df[\"human/ response from user\"].str.lower()\n"
   ]
  },
  {
   "cell_type": "code",
   "execution_count": 126,
   "metadata": {},
   "outputs": [],
   "source": [
    "df[\"ai_validated_part2\"] = df[\"ai_validated_part2\"].str.lower()"
   ]
  },
  {
   "cell_type": "code",
   "execution_count": 131,
   "metadata": {},
   "outputs": [],
   "source": [
    "df[\"ground truth\"] = df[\"ground truth\"].str.lower()"
   ]
  },
  {
   "cell_type": "code",
   "execution_count": 132,
   "metadata": {},
   "outputs": [],
   "source": [
    "df[\"final_result\"] = df[\"ground truth\"] == df[\"ai_validated_part2\"]"
   ]
  },
  {
   "cell_type": "code",
   "execution_count": 134,
   "metadata": {},
   "outputs": [],
   "source": [
    "df.to_csv(\"march_20.csv\")"
   ]
  },
  {
   "cell_type": "markdown",
   "metadata": {},
   "source": [
    "## 4.0 Analysing the wrong response"
   ]
  },
  {
   "cell_type": "code",
   "execution_count": 139,
   "metadata": {},
   "outputs": [],
   "source": [
    "wrong_response = df[df[\"final_result\"]== False]"
   ]
  },
  {
   "cell_type": "code",
   "execution_count": 140,
   "metadata": {},
   "outputs": [
    {
     "data": {
      "text/plain": [
       "(36, 10)"
      ]
     },
     "execution_count": 140,
     "metadata": {},
     "output_type": "execute_result"
    }
   ],
   "source": [
    "wrong_response.shape"
   ]
  },
  {
   "cell_type": "code",
   "execution_count": 143,
   "metadata": {},
   "outputs": [],
   "source": [
    "wrong_response.to_csv(\"sdf.csv\")"
   ]
  },
  {
   "cell_type": "markdown",
   "metadata": {},
   "source": []
  },
  {
   "cell_type": "code",
   "execution_count": null,
   "metadata": {},
   "outputs": [],
   "source": [
    "from openai import OpenAI\n",
    "import json\n",
    " \n",
    "client = OpenAI()\n",
    " \n",
    "def validate_response_new2(question: str, answer: str) -> dict:\n",
    "    \"\"\"\n",
    "    Validates whether a given response is valid based on predefined rules.\n",
    " \n",
    "    Parameters:\n",
    "        question (str): The question asked.\n",
    "        answer (str): The human response.\n",
    " \n",
    "    Returns:\n",
    "        dict: A structured response (e.g., {\"result\": \"yes\", \"location\": \"drawer\", \"reason\": \"Location provided\"})\n",
    "    \"\"\"\n",
    " \n",
    "    prompt = f\"\"\"\n",
    "    You are in a Q&A session, validating whether an answer satisfies a question to gather information.\n",
    " \n",
    "    **Rules:**\n",
    "    1. If the answer contains a location (e.g., \"in my drawer\", \"at home\", \"in New York\"), return:\n",
    "       {{\n",
    "          \"result\": \"yes\",\n",
    "          \"location\": \"<EXTRACTED LOCATION>\",\n",
    "       }}\n",
    "    2. If the answer includes \"Yes\" or similar, return:\n",
    "       {{\n",
    "          \"result\": \"yes\",\n",
    "       }}\n",
    "    3. If the answer includes \"Maybe\" or similar, return:\n",
    "       {{\n",
    "          \"result\": \"question\",\n",
    "       }}\n",
    "    4. If the answer includes \"No\", \"Skip\", or similar, return:\n",
    "       {{\n",
    "          \"result\": \"skip\",\n",
    "          \n",
    "       }}\n",
    "    5. If the answer is a question, return:\n",
    "       {{\n",
    "          \"result\": \"question\",\n",
    "       }}\n",
    "    \n",
    "    6. If the answer contains both a response (e.g., \"Yes, I have\") **and** a question (e.g., \"Can you explain more?\"), or similar, return:\n",
    "       {{\n",
    "          \"result\": \"question\",\n",
    "          \"message\": \"The user partially answered but needs clarification. Explain again before proceeding.\"\n",
    "       }} \n",
    "       \n",
    "    **Strictly return only valid JSON. Do NOT include explanations or extra text.**\n",
    "   \n",
    "    **Question:** {question}  \n",
    "    **Answer:** {answer}\n",
    "    \"\"\"\n",
    " \n",
    "    completion = client.chat.completions.create(\n",
    "        model=\"gpt-4o-mini\",  \n",
    "        messages=[{\"role\": \"system\", \"content\": prompt}],\n",
    "        response_format={\"type\": \"json_object\"} \n",
    "    )\n",
    " \n",
    "    response_data = json.loads(completion.choices[0].message.content)  \n",
    "\n",
    "    try:\n",
    "        prompt_result = response_data[\"result\"]\n",
    "\n",
    "        if prompt_result.lower()== \"yes\":\n",
    "            prompt_result = \"answered\"\n",
    "    except:\n",
    "        prompt_result = \"skip\" \n",
    " \n",
    "    return prompt_result "
   ]
  }
 ],
 "metadata": {
  "kernelspec": {
   "display_name": "rj",
   "language": "python",
   "name": "python3"
  },
  "language_info": {
   "codemirror_mode": {
    "name": "ipython",
    "version": 3
   },
   "file_extension": ".py",
   "mimetype": "text/x-python",
   "name": "python",
   "nbconvert_exporter": "python",
   "pygments_lexer": "ipython3",
   "version": "3.10.16"
  }
 },
 "nbformat": 4,
 "nbformat_minor": 2
}
